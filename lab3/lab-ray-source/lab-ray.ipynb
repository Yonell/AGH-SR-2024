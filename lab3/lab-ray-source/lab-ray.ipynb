{
 "cells": [
  {
   "cell_type": "markdown",
   "source": [
    "# AGH DS Laboratory 3 - Actor Model with Ray Framework\n",
    "\n",
    "## Introduction\n",
    "\n",
    "Ray is a general-purpose framework for programming a cluster made by UC Berkeley's RISELab. It enables developers to easily parallelize their Python applications or build new ones, and run them at any scale, from a laptop to a large cluster. It also provides a highly flexible, yet minimalist and easy to use API. \n",
    "\n",
    "#### Documentation Reference Links:\n",
    "\n",
    "Ray official website: https://rise.cs.berkeley.edu/projects/ray/\n",
    "\n",
    "Ray documentation website: http://ray.readthedocs.io/en/latest/\n",
    "\n",
    "GitHub repository: https://github.com/ray-project/ray\n",
    "\n",
    "### Installation\n",
    "Please follow the instructions:\n",
    "\n",
    "Installation: https://docs.ray.io/en/latest/ray-overview/installation.html\n"
   ],
   "metadata": {
    "collapsed": false
   },
   "id": "29fc23d010892547"
  },
  {
   "cell_type": "markdown",
   "source": [
    "***\n",
    "## Part 1 - Remote Functions\n",
    "\n",
    "This script is too slow, and the computation is embarrassingly parallel. In this exercise, you will use Ray to execute the functions in parallel to speed it up.\n",
    "\n",
    "The standard way to turn a Python function into a remote function is to add the `@ray.remote` decorator. Here is an example.\n",
    "\n",
    "```python\n",
    "# A regular Python function.\n",
    "def regular_function(x):\n",
    "    return x + 1\n",
    "\n",
    "# A Ray remote function.\n",
    "@ray.remote\n",
    "def remote_function(x):\n",
    "    return x + 1\n",
    "```\n",
    "\n",
    "The differences are the following:\n",
    "\n",
    "1. **Invocation:** The regular version is called with `regular_function(1)`, whereas the remote version is called with `remote_function.remote(1)`.\n",
    "2. **Return values:** `regular_function` immediately executes and returns `1`, whereas `remote_function` immediately returns an object ID (a future) and then creates a task that will be executed on a worker process. The result can be obtained with `ray.get`.\n",
    "    ```python\n",
    "    >>> regular_function(0)\n",
    "    1\n",
    "    \n",
    "    >>> remote_function.remote(0)\n",
    "    ObjectID(1c80d6937802cd7786ad25e50caf2f023c95e350)\n",
    "    \n",
    "    >>> ray.get(remote_function.remote(0))\n",
    "    1\n",
    "    ```\n",
    "3. **Parallelism:** Invocations of `regular_function` happen **serially**, for example\n",
    "    ```python\n",
    "    # These happen serially.\n",
    "    for _ in range(4):\n",
    "        regular_function(0)\n",
    "    ```\n",
    "    whereas invocations of `remote_function` happen in **parallel**, for example\n",
    "    ```python\n",
    "    # These happen in parallel.\n",
    "    for _ in range(4):\n",
    "        remote_function.remote(0)\n",
    "    ```"
   ],
   "metadata": {
    "collapsed": false
   },
   "id": "997d0555744a1e39"
  },
  {
   "cell_type": "code",
   "outputs": [],
   "source": [
    "from __future__ import absolute_import\n",
    "from __future__ import division\n",
    "from __future__ import print_function\n",
    "\n",
    "import ray\n",
    "import time\n",
    "import numpy as np\n",
    "from numpy import random\n",
    "import os\n",
    "import pickle\n",
    "from random import Random"
   ],
   "metadata": {
    "collapsed": false
   },
   "id": "191f3b456acd32fc",
   "execution_count": 2
  },
  {
   "cell_type": "markdown",
   "source": [
    "Start Ray. By default, Ray does not schedule more tasks concurrently than there are CPUs. This example requires four tasks to run concurrently, so we tell Ray that there are four CPUs. Usually this is not done and Ray computes the number of CPUs using `psutil.cpu_count()`. The argument `ignore_reinit_error=True` just ignores errors if the cell is run multiple times.\n",
    "\n",
    "The call to `ray.init` starts a number of processes."
   ],
   "metadata": {
    "collapsed": false
   },
   "id": "97096b3f4c6c556c"
  },
  {
   "cell_type": "code",
   "outputs": [
    {
     "name": "stderr",
     "output_type": "stream",
     "text": [
      "2024-04-19 14:36:18,702\tINFO worker.py:1743 -- Started a local Ray instance. View the dashboard at \u001B[1m\u001B[32mhttp://127.0.0.1:8265 \u001B[39m\u001B[22m\n"
     ]
    },
    {
     "data": {
      "text/plain": "RayContext(dashboard_url='127.0.0.1:8265', python_version='3.11.5', ray_version='2.10.0', ray_commit='09abba26b5bf2707639bb637c208d062a47b46f6')",
      "application/vnd.jupyter.widget-view+json": {
       "version_major": 2,
       "version_minor": 0,
       "model_id": "20ad6fac4b4d47f8b2113ef6f76633a2"
      },
      "text/html": "<div class=\"lm-Widget p-Widget lm-Panel p-Panel jp-Cell-outputWrapper\">\n    <div style=\"margin-left: 50px;display: flex;flex-direction: row;align-items: center\">\n        <div class=\"jp-RenderedHTMLCommon\" style=\"display: flex; flex-direction: row;\">\n  <svg viewBox=\"0 0 567 224\" fill=\"none\" xmlns=\"http://www.w3.org/2000/svg\" style=\"height: 3em;\">\n    <g clip-path=\"url(#clip0_4338_178347)\">\n        <path d=\"M341.29 165.561H355.29L330.13 129.051C345.63 123.991 354.21 112.051 354.21 94.2307C354.21 71.3707 338.72 58.1807 311.88 58.1807H271V165.561H283.27V131.661H311.8C314.25 131.661 316.71 131.501 319.01 131.351L341.25 165.561H341.29ZM283.29 119.851V70.0007H311.82C331.3 70.0007 342.34 78.2907 342.34 94.5507C342.34 111.271 331.34 119.861 311.82 119.861L283.29 119.851ZM451.4 138.411L463.4 165.561H476.74L428.74 58.1807H416L367.83 165.561H380.83L392.83 138.411H451.4ZM446.19 126.601H398L422 72.1407L446.24 126.601H446.19ZM526.11 128.741L566.91 58.1807H554.35L519.99 114.181L485.17 58.1807H472.44L514.01 129.181V165.541H526.13V128.741H526.11Z\" fill=\"var(--jp-ui-font-color0)\"/>\n        <path d=\"M82.35 104.44C84.0187 97.8827 87.8248 92.0678 93.1671 87.9146C98.5094 83.7614 105.083 81.5067 111.85 81.5067C118.617 81.5067 125.191 83.7614 130.533 87.9146C135.875 92.0678 139.681 97.8827 141.35 104.44H163.75C164.476 101.562 165.622 98.8057 167.15 96.2605L127.45 56.5605C121.071 60.3522 113.526 61.6823 106.235 60.3005C98.9443 58.9187 92.4094 54.9203 87.8602 49.0574C83.3109 43.1946 81.0609 35.8714 81.5332 28.4656C82.0056 21.0599 85.1679 14.0819 90.4252 8.8446C95.6824 3.60726 102.672 0.471508 110.08 0.0272655C117.487 -0.416977 124.802 1.86091 130.647 6.4324C136.493 11.0039 140.467 17.5539 141.821 24.8501C143.175 32.1463 141.816 39.6859 138 46.0505L177.69 85.7505C182.31 82.9877 187.58 81.4995 192.962 81.4375C198.345 81.3755 203.648 82.742 208.33 85.3976C213.012 88.0532 216.907 91.9029 219.616 96.5544C222.326 101.206 223.753 106.492 223.753 111.875C223.753 117.258 222.326 122.545 219.616 127.197C216.907 131.848 213.012 135.698 208.33 138.353C203.648 141.009 198.345 142.375 192.962 142.313C187.58 142.251 182.31 140.763 177.69 138L138 177.7C141.808 184.071 143.155 191.614 141.79 198.91C140.424 206.205 136.44 212.75 130.585 217.313C124.731 221.875 117.412 224.141 110.004 223.683C102.596 223.226 95.6103 220.077 90.3621 214.828C85.1139 209.58 81.9647 202.595 81.5072 195.187C81.0497 187.779 83.3154 180.459 87.878 174.605C92.4405 168.751 98.9853 164.766 106.281 163.401C113.576 162.035 121.119 163.383 127.49 167.19L167.19 127.49C165.664 124.941 164.518 122.182 163.79 119.3H141.39C139.721 125.858 135.915 131.673 130.573 135.826C125.231 139.98 118.657 142.234 111.89 142.234C105.123 142.234 98.5494 139.98 93.2071 135.826C87.8648 131.673 84.0587 125.858 82.39 119.3H60C58.1878 126.495 53.8086 132.78 47.6863 136.971C41.5641 141.163 34.1211 142.972 26.7579 142.059C19.3947 141.146 12.6191 137.574 7.70605 132.014C2.79302 126.454 0.0813599 119.29 0.0813599 111.87C0.0813599 104.451 2.79302 97.2871 7.70605 91.7272C12.6191 86.1673 19.3947 82.5947 26.7579 81.6817C34.1211 80.7686 41.5641 82.5781 47.6863 86.7696C53.8086 90.9611 58.1878 97.2456 60 104.44H82.35ZM100.86 204.32C103.407 206.868 106.759 208.453 110.345 208.806C113.93 209.159 117.527 208.258 120.522 206.256C123.517 204.254 125.725 201.276 126.771 197.828C127.816 194.38 127.633 190.677 126.253 187.349C124.874 184.021 122.383 181.274 119.205 179.577C116.027 177.88 112.359 177.337 108.826 178.042C105.293 178.746 102.113 180.654 99.8291 183.44C97.5451 186.226 96.2979 189.718 96.3 193.32C96.2985 195.364 96.7006 197.388 97.4831 199.275C98.2656 201.163 99.4132 202.877 100.86 204.32ZM204.32 122.88C206.868 120.333 208.453 116.981 208.806 113.396C209.159 109.811 208.258 106.214 206.256 103.219C204.254 100.223 201.275 98.0151 197.827 96.97C194.38 95.9249 190.676 96.1077 187.348 97.4873C184.02 98.8669 181.274 101.358 179.577 104.536C177.879 107.714 177.337 111.382 178.041 114.915C178.746 118.448 180.653 121.627 183.439 123.911C186.226 126.195 189.717 127.443 193.32 127.44C195.364 127.443 197.388 127.042 199.275 126.259C201.163 125.476 202.878 124.328 204.32 122.88ZM122.88 19.4205C120.333 16.8729 116.981 15.2876 113.395 14.9347C109.81 14.5817 106.213 15.483 103.218 17.4849C100.223 19.4868 98.0146 22.4654 96.9696 25.9131C95.9245 29.3608 96.1073 33.0642 97.4869 36.3922C98.8665 39.7202 101.358 42.4668 104.535 44.1639C107.713 45.861 111.381 46.4036 114.914 45.6992C118.447 44.9949 121.627 43.0871 123.911 40.301C126.195 37.515 127.442 34.0231 127.44 30.4205C127.44 28.3772 127.038 26.3539 126.255 24.4664C125.473 22.5788 124.326 20.8642 122.88 19.4205ZM19.42 100.86C16.8725 103.408 15.2872 106.76 14.9342 110.345C14.5813 113.93 15.4826 117.527 17.4844 120.522C19.4863 123.518 22.4649 125.726 25.9127 126.771C29.3604 127.816 33.0638 127.633 36.3918 126.254C39.7198 124.874 42.4664 122.383 44.1635 119.205C45.8606 116.027 46.4032 112.359 45.6988 108.826C44.9944 105.293 43.0866 102.114 40.3006 99.8296C37.5145 97.5455 34.0227 96.2983 30.42 96.3005C26.2938 96.3018 22.337 97.9421 19.42 100.86ZM100.86 100.86C98.3125 103.408 96.7272 106.76 96.3742 110.345C96.0213 113.93 96.9226 117.527 98.9244 120.522C100.926 123.518 103.905 125.726 107.353 126.771C110.8 127.816 114.504 127.633 117.832 126.254C121.16 124.874 123.906 122.383 125.604 119.205C127.301 116.027 127.843 112.359 127.139 108.826C126.434 105.293 124.527 102.114 121.741 99.8296C118.955 97.5455 115.463 96.2983 111.86 96.3005C109.817 96.299 107.793 96.701 105.905 97.4835C104.018 98.2661 102.303 99.4136 100.86 100.86Z\" fill=\"#00AEEF\"/>\n    </g>\n    <defs>\n        <clipPath id=\"clip0_4338_178347\">\n            <rect width=\"566.93\" height=\"223.75\" fill=\"white\"/>\n        </clipPath>\n    </defs>\n  </svg>\n</div>\n\n        <table class=\"jp-RenderedHTMLCommon\" style=\"border-collapse: collapse;color: var(--jp-ui-font-color1);font-size: var(--jp-ui-font-size1);\">\n    <tr>\n        <td style=\"text-align: left\"><b>Python version:</b></td>\n        <td style=\"text-align: left\"><b>3.11.5</b></td>\n    </tr>\n    <tr>\n        <td style=\"text-align: left\"><b>Ray version:</b></td>\n        <td style=\"text-align: left\"><b>2.10.0</b></td>\n    </tr>\n    <tr>\n    <td style=\"text-align: left\"><b>Dashboard:</b></td>\n    <td style=\"text-align: left\"><b><a href=\"http://127.0.0.1:8265\" target=\"_blank\">http://127.0.0.1:8265</a></b></td>\n</tr>\n\n</table>\n\n    </div>\n</div>\n"
     },
     "execution_count": 3,
     "metadata": {},
     "output_type": "execute_result"
    }
   ],
   "source": [
    "if ray.is_initialized:\n",
    "    ray.shutdown()\n",
    "ray.init(ignore_reinit_error=True)"
   ],
   "metadata": {
    "collapsed": false
   },
   "id": "ef22f58f35121d5d",
   "execution_count": 3
  },
  {
   "cell_type": "code",
   "outputs": [],
   "source": [
    "# This function is a proxy for a more interesting and computationally\n",
    "# intensive function.\n",
    "\n",
    "@ray.remote\n",
    "def slow_function(i):\n",
    "    time.sleep(1)\n",
    "    return i"
   ],
   "metadata": {
    "collapsed": false
   },
   "id": "fb85268744fc62ba",
   "execution_count": 6
  },
  {
   "cell_type": "markdown",
   "source": [
    "**EXERCISE:** The loop below takes too long. The four function calls could be executed in parallel. Instead of four seconds, it should only take one second. Once `slow_function` has been made a remote function, execute these four tasks in parallel by calling `slow_function.remote()`. Then obtain the results by calling `ray.get` on a list of the resulting object IDs."
   ],
   "metadata": {
    "collapsed": false
   },
   "id": "5c4646fb8e9d5f93"
  },
  {
   "cell_type": "code",
   "outputs": [
    {
     "name": "stdout",
     "output_type": "stream",
     "text": [
      "The results are [0, 1, 2, 3]. This took 1.012073278427124 seconds. Run the next cell to see if the exercise was done correctly.\n"
     ]
    }
   ],
   "source": [
    "# Sleep a little to improve the accuracy of the timing measurements below.\n",
    "# We do this because workers may still be starting up in the background.\n",
    "time.sleep(2.0)\n",
    "start_time = time.time()\n",
    "\n",
    "promises = [slow_function.remote(i) for i in range(4)]\n",
    "results = [ray.get(promises[i]) for i in range(4)]\n",
    "\n",
    "end_time = time.time()\n",
    "duration = end_time - start_time\n",
    "\n",
    "print('The results are {}. This took {} seconds. Run the next cell to see '\n",
    "      'if the exercise was done correctly.'.format(results, duration))"
   ],
   "metadata": {
    "collapsed": false
   },
   "id": "ca6151ffe5a4383e",
   "execution_count": 9
  },
  {
   "cell_type": "markdown",
   "source": [
    "**VERIFY:** Run some checks to verify that the changes you made to the code were correct. Some of the checks should fail when you initially run the cells. After completing the exercises, the checks should pass."
   ],
   "metadata": {
    "collapsed": false
   },
   "id": "e07bc6009fe78751"
  },
  {
   "cell_type": "code",
   "outputs": [
    {
     "name": "stdout",
     "output_type": "stream",
     "text": [
      "Success! The example took 1.012073278427124 seconds.\n"
     ]
    }
   ],
   "source": [
    "assert results == [0, 1, 2, 3], 'Did you remember to call ray.get?'\n",
    "assert duration < 1.1, ('The loop took {} seconds. This is too slow.'\n",
    "                        .format(duration))\n",
    "assert duration > 1, ('The loop took {} seconds. This is too fast.'\n",
    "                      .format(duration))\n",
    "\n",
    "print('Success! The example took {} seconds.'.format(duration))"
   ],
   "metadata": {
    "collapsed": false
   },
   "id": "90ebedc34cecbb95",
   "execution_count": 10
  },
  {
   "cell_type": "markdown",
   "source": [
    "** Example Generating Fibonnaci series **\n",
    "Let's define two functions: one runs locally or serially, the other runs on a Ray cluster (local or remote). Please implment it"
   ],
   "metadata": {
    "collapsed": false
   },
   "id": "60138313f53b48a3"
  },
  {
   "cell_type": "code",
   "outputs": [],
   "source": [
    "# Function for local fibonacci computation\n",
    "def generate_fibonacci(sequence_size):\n",
    "    table = [1 for i in range(sequence_size)]\n",
    "    for i in range(2,sequence_size):\n",
    "        table[i] = table[i-1]+table[i-2]\n",
    "    return sequence_size\n",
    "    # return length of table with generated fibonnachi numbers\n",
    "    # do not use recursion, reuse allocated table\n",
    "    # DO NOT RETURN ENTIRE TABLE\n",
    "\n",
    "# Function for remote Ray task with just a wrapper\n",
    "@ray.remote\n",
    "def generate_fibonacci_distributed(sequence_size):\n",
    "    return generate_fibonacci(sequence_size)"
   ],
   "metadata": {
    "collapsed": false
   },
   "id": "5dfc292ebb5a982b",
   "execution_count": 12
  },
  {
   "cell_type": "code",
   "outputs": [
    {
     "data": {
      "text/plain": "4"
     },
     "execution_count": 13,
     "metadata": {},
     "output_type": "execute_result"
    }
   ],
   "source": [
    "# Get the number of cores for better parralelism\n",
    "os.cpu_count()"
   ],
   "metadata": {
    "collapsed": false
   },
   "id": "22a15f29d14df7b6",
   "execution_count": 13
  },
  {
   "cell_type": "code",
   "outputs": [
    {
     "name": "stdout",
     "output_type": "stream",
     "text": [
      "CPU times: total: 3.02 s\n",
      "Wall time: 5.41 s\n"
     ]
    },
    {
     "data": {
      "text/plain": "[100000, 100000, 100000, 100000]"
     },
     "execution_count": 14,
     "metadata": {},
     "output_type": "execute_result"
    }
   ],
   "source": [
    "# Normal Python in a single process\n",
    "def run_local(sequence_size):\n",
    "    results = [generate_fibonacci(sequence_size) for _ in range(os.cpu_count())]\n",
    "    return results\n",
    "\n",
    "SEQUENCE_SIZE = 100000\n",
    "%time run_local(SEQUENCE_SIZE)\n"
   ],
   "metadata": {
    "collapsed": false
   },
   "id": "9cbd8721a3c6ff94",
   "execution_count": 14
  },
  {
   "cell_type": "code",
   "outputs": [
    {
     "name": "stdout",
     "output_type": "stream",
     "text": [
      "CPU times: total: 15.6 ms\n",
      "Wall time: 4.12 s\n"
     ]
    },
    {
     "data": {
      "text/plain": "[100000, 100000, 100000, 100000]"
     },
     "execution_count": 15,
     "metadata": {},
     "output_type": "execute_result"
    }
   ],
   "source": [
    "# Distributed on a Ray cluster\n",
    "def run_remote(sequence_size):\n",
    "    results = ray.get([generate_fibonacci_distributed.remote(sequence_size) for _ in range(os.cpu_count())])\n",
    "    return results\n",
    "\n",
    "%time run_remote(SEQUENCE_SIZE)"
   ],
   "metadata": {
    "collapsed": false
   },
   "id": "667b6946b4641f33",
   "execution_count": 15
  },
  {
   "cell_type": "markdown",
   "source": [
    "***\n",
    "## Part 2 - Parallel Data Processing with Task Dependencies\n",
    "\n",
    "**GOAL:** The goal of this exercise is to show how to pass object IDs into remote functions to encode dependencies between tasks.\n",
    "\n",
    "In this exercise, we construct a sequence of tasks each of which depends on the previous mimicking a data parallel application. Within each sequence, tasks are executed serially, but multiple sequences can be executed in parallel.\n",
    "\n",
    "In this exercise, you will use Ray to parallelize the computation below and speed it up.\n",
    "\n",
    "### Concept for this Exercise - Task Dependencies\n",
    "\n",
    "Suppose we have two remote functions defined as follows.\n",
    "\n",
    "```python\n",
    "@ray.remote\n",
    "def f(x):\n",
    "    return x\n",
    "```\n",
    "\n",
    "Arguments can be passed into remote functions as usual.\n",
    "\n",
    "```python\n",
    ">>> x1_id = f.remote(1)\n",
    ">>> ray.get(x1_id)\n",
    "1\n",
    "\n",
    ">>> x2_id = f.remote([1, 2, 3])\n",
    ">>> ray.get(x2_id)\n",
    "[1, 2, 3]\n",
    "```\n",
    "\n",
    "**Object IDs** can also be passed into remote functions. When the function actually gets executed, **the argument will be a retrieved as a regular Python object**.\n",
    "\n",
    "```python\n",
    ">>> y1_id = f.remote(x1_id)\n",
    ">>> ray.get(y1_id)\n",
    "1\n",
    "\n",
    ">>> y2_id = f.remote(x2_id)\n",
    ">>> ray.get(y2_id)\n",
    "[1, 2, 3]\n",
    "```\n",
    "\n",
    "So when implementing a remote function, the function should expect a regular Python object regardless of whether the caller passes in a regular Python object or an object ID.\n",
    "\n",
    "**Task dependencies affect scheduling.** In the example above, the task that creates `y1_id` depends on the task that creates `x1_id`. This has the following implications.\n",
    "\n",
    "- The second task will not be executed until the first task has finished executing.\n",
    "- If the two tasks are scheduled on different machines, the output of the first task (the value corresponding to `x1_id`) will be copied over the network to the machine where the second task is scheduled.\n"
   ],
   "metadata": {
    "collapsed": false
   },
   "id": "5955a53ffcf75185"
  },
  {
   "cell_type": "markdown",
   "source": [
    "These are some helper functions that mimic an example pattern of a data parallel application.\n",
    "\n",
    "**EXERCISE:** You will need to turn all of these functions into remote functions. When you turn these functions into remote function, you do not have to worry about whether the caller passes in an object ID or a regular object. In both cases, the arguments will be regular objects when the function executes. This means that even if you pass in an object ID, you **do not need to call `ray.get`** inside of these remote functions."
   ],
   "metadata": {
    "collapsed": false
   },
   "id": "b88e887feff3e438"
  },
  {
   "cell_type": "code",
   "outputs": [],
   "source": [
    "@ray.remote\n",
    "def load_data(filename):\n",
    "    time.sleep(0.1)\n",
    "    return np.ones((1000, 100))\n",
    "\n",
    "@ray.remote\n",
    "def normalize_data(data):\n",
    "    time.sleep(0.1)\n",
    "    return data - np.mean(data, axis=0)\n",
    "\n",
    "@ray.remote\n",
    "def extract_features(normalized_data):\n",
    "    time.sleep(0.1)\n",
    "    return np.hstack([normalized_data, normalized_data ** 2])\n",
    "\n",
    "@ray.remote\n",
    "def compute_loss(features):\n",
    "    num_data, dim = features.shape\n",
    "    time.sleep(0.1)\n",
    "    return np.sum((np.dot(features, np.ones(dim)) - np.ones(num_data)) ** 2)\n",
    "\n",
    "assert hasattr(load_data, 'remote'), 'load_data must be a remote function'\n",
    "assert hasattr(normalize_data, 'remote'), 'normalize_data must be a remote function'\n",
    "assert hasattr(extract_features, 'remote'), 'extract_features must be a remote function'\n",
    "assert hasattr(compute_loss, 'remote'), 'compute_loss must be a remote function'"
   ],
   "metadata": {
    "collapsed": false
   },
   "id": "8b739cc28319de38",
   "execution_count": 16
  },
  {
   "cell_type": "markdown",
   "source": [
    "**EXERCISE:** The loop below takes too long. Parallelize the four passes through the loop by turning `load_data`, `normalize_data`, `extract_features`, and `compute_loss` into remote functions and then retrieving the losses with `ray.get`.\n",
    "\n",
    "**NOTE:** You should only use **ONE** call to `ray.get`. For example, the object ID returned by `load_data` should be passed directly into `normalize_data` without needing to be retrieved by the driver."
   ],
   "metadata": {
    "collapsed": false
   },
   "id": "6f031d1ddeb96bc2"
  },
  {
   "cell_type": "code",
   "outputs": [
    {
     "name": "stdout",
     "output_type": "stream",
     "text": [
      "The losses are [1000.0, 1000.0, 1000.0, 1000.0].\n",
      "\n",
      "The loss is 4000.0. This took 0.666677713394165 seconds. Run the next cell to see if the exercise was done correctly.\n"
     ]
    }
   ],
   "source": [
    "# Sleep a little to improve the accuracy of the timing measurements below.\n",
    "time.sleep(2.0)\n",
    "start_time = time.time()\n",
    "\n",
    "losses = []\n",
    "for filename in ['file1', 'file2', 'file3', 'file4']:\n",
    "    inner_start = time.time()\n",
    "\n",
    "    data = load_data.remote(filename)\n",
    "    normalized_data = normalize_data.remote(data)\n",
    "    features = extract_features.remote(normalized_data)\n",
    "    loss = compute_loss.remote(features)\n",
    "    losses.append(loss)\n",
    "    \n",
    "    inner_end = time.time()\n",
    "    \n",
    "    if inner_end - inner_start >= 0.1:\n",
    "        raise Exception('You may be calling ray.get inside of the for loop! '\n",
    "                        'Doing this will prevent parallelism from being exposed. '\n",
    "                        'Make sure to only call ray.get once outside of the for loop.')\n",
    "\n",
    "print('The losses are {}.'.format(ray.get(losses)) + '\\n')\n",
    "loss = sum(ray.get(losses))\n",
    "\n",
    "end_time = time.time()\n",
    "duration = end_time - start_time\n",
    "\n",
    "print('The loss is {}. This took {} seconds. Run the next cell to see '\n",
    "      'if the exercise was done correctly.'.format(loss, duration))"
   ],
   "metadata": {
    "collapsed": false
   },
   "id": "5f11fd817ae6b435",
   "execution_count": 21
  },
  {
   "cell_type": "markdown",
   "source": [
    "**VERIFY:** Run some checks to verify that the changes you made to the code were correct. Some of the checks should fail when you initially run the cells. After completing the exercises, the checks should pass."
   ],
   "metadata": {
    "collapsed": false
   },
   "id": "bbfac1ca0c96db37"
  },
  {
   "cell_type": "code",
   "outputs": [
    {
     "name": "stdout",
     "output_type": "stream",
     "text": [
      "Success! The example took 0.666677713394165 seconds.\n"
     ]
    }
   ],
   "source": [
    "assert loss == 4000\n",
    "assert duration < 0.8, ('The loop took {} seconds. This is too slow.'\n",
    "                        .format(duration))\n",
    "assert duration > 0.4, ('The loop took {} seconds. This is too fast.'\n",
    "                        .format(duration))\n",
    "\n",
    "print('Success! The example took {} seconds.'.format(duration))"
   ],
   "metadata": {
    "collapsed": false
   },
   "id": "a4cb48fa6fc3671e",
   "execution_count": 22
  },
  {
   "cell_type": "markdown",
   "source": [
    "***\n",
    "## Part 3 - Introducing Actors\n",
    "\n",
    "**Goal:** The goal of this exercise is to show how to create an actor and how to call actor methods.\n",
    "\n",
    "See the documentation on actors at https://docs.ray.io/en/latest/ray-core/actors.html.\n",
    "\n",
    "Sometimes you need a \"worker\" process to have \"state\". For example, that state might be a neural network, a simulator environment, a counter, or something else entirely. However, remote functions are side-effect free. That is, they operate on inputs and produce outputs, but they don't change the state of the worker they execute on.\n",
    "\n",
    "Actors are different. When we instantiate an actor, a brand new worker is created, and all methods that are called on that actor are executed on the newly created worker.\n",
    "\n",
    "This means that with a single actor, no parallelism can be achieved because calls to the actor's methods will be executed one at a time. However, multiple actors can be created and methods can be executed on them in parallel.\n",
    "\n",
    "### Concepts for this Exercise - Actors\n",
    "\n",
    "To create an actor, decorate Python class with the `@ray.remote` decorator.\n",
    "\n",
    "```python\n",
    "@ray.remote\n",
    "class Example(object):\n",
    "    def __init__(self, x):\n",
    "        self.x = x\n",
    "    \n",
    "    def set(self, x):\n",
    "        self.x = x\n",
    "    \n",
    "    def get(self):\n",
    "        return self.x\n",
    "```\n",
    "\n",
    "Like regular Python classes, **actors encapsulate state that is shared across actor method invocations**.\n",
    "\n",
    "Actor classes differ from regular Python classes in the following ways.\n",
    "1. **Instantiation:** A regular class would be instantiated via `e = Example(1)`. Actors are instantiated via\n",
    "    ```python\n",
    "    e = Example.remote(1)\n",
    "    ```\n",
    "    When an actor is instantiated, a **new worker process** is created by a local scheduler somewhere in the cluster.\n",
    "2. **Method Invocation:** Methods of a regular class would be invoked via `e.set(2)` or `e.get()`. Actor methods are invoked differently.\n",
    "    ```python\n",
    "    >>> e.set.remote(2)\n",
    "    ObjectID(d966aa9b6486331dc2257522734a69ff603e5a1c)\n",
    "    \n",
    "    >>> e.get.remote()\n",
    "    ObjectID(7c432c085864ed4c7c18cf112377a608676afbc3)\n",
    "    ```\n",
    "3. **Return Values:** Actor methods are non-blocking. They immediately return an object ID and **they create a task which is scheduled on the actor worker**. The result can be retrieved with `ray.get`.\n",
    "    ```python\n",
    "    >>> ray.get(e.set.remote(2))\n",
    "    None\n",
    "    \n",
    "    >>> ray.get(e.get.remote())\n",
    "    2\n",
    "    ```"
   ],
   "metadata": {
    "collapsed": false
   },
   "id": "6750753a1dd13313"
  },
  {
   "cell_type": "markdown",
   "source": [
    "**EXERCISE:** Change the `Foo` class to be an actor class by using the `@ray.remote` decorator."
   ],
   "metadata": {
    "collapsed": false
   },
   "id": "136d2f7e4b154088"
  },
  {
   "cell_type": "code",
   "outputs": [],
   "source": [
    "@ray.remote\n",
    "class Foo(object):\n",
    "    def __init__(self):\n",
    "        self.counter = 0\n",
    "\n",
    "    def reset(self):\n",
    "        self.counter = 0\n",
    "\n",
    "    def increment(self):\n",
    "        time.sleep(0.5)\n",
    "        self.counter += 1\n",
    "        return self.counter\n",
    "\n",
    "assert hasattr(Foo, 'remote'), 'You need to turn \"Foo\" into an actor with @ray.remote.'"
   ],
   "metadata": {
    "collapsed": false
   },
   "id": "e027e2a2af11648e",
   "execution_count": 23
  },
  {
   "cell_type": "markdown",
   "source": [
    "**EXERCISE:** Change the intantiations below to create two actors by calling `Foo.remote()`."
   ],
   "metadata": {
    "collapsed": false
   },
   "id": "a654a0b9ffe4d2b0"
  },
  {
   "cell_type": "code",
   "outputs": [],
   "source": [
    "# Create two Foo objects.\n",
    "f1 = Foo.remote()\n",
    "f2 = Foo.remote()"
   ],
   "metadata": {
    "collapsed": false
   },
   "id": "6b68dfb348c94076",
   "execution_count": 25
  },
  {
   "cell_type": "markdown",
   "source": [
    "**EXERCISE:** Parallelize the code below. The two actors can execute methods in parallel (though each actor can only execute one method at a time)."
   ],
   "metadata": {
    "collapsed": false
   },
   "id": "eba108b7ba52ddf7"
  },
  {
   "cell_type": "code",
   "outputs": [
    {
     "name": "stdout",
     "output_type": "stream",
     "text": [
      "Success! The example took 2.5343973636627197 seconds.\n"
     ]
    }
   ],
   "source": [
    "# Sleep a little to improve the accuracy of the timing measurements below.\n",
    "time.sleep(2.0)\n",
    "start_time = time.time()\n",
    "\n",
    "# Reset the actor state so that we can run this cell multiple times without\n",
    "# changing the results.\n",
    "f1.reset.remote()\n",
    "f2.reset.remote()\n",
    "\n",
    "# We want to parallelize this code. However, it is not straightforward to\n",
    "# make \"increment\" a remote function, because state is shared (the value of\n",
    "# \"self.counter\") between subsequent calls to \"increment\". In this case, it\n",
    "# makes sense to use actors.\n",
    "results = []\n",
    "for _ in range(5):\n",
    "    results.append(f1.increment.remote())\n",
    "    results.append(f2.increment.remote())\n",
    "\n",
    "results = ray.get(results)\n",
    "\n",
    "end_time = time.time()\n",
    "duration = end_time - start_time\n",
    "\n",
    "print('Success! The example took {} seconds.'.format(duration))\n",
    "\n",
    "assert not any([isinstance(result, ray.ObjectID) for result in results]), 'Looks like \"results\" is {}. You may have forgotten to call ray.get.'.format(results)"
   ],
   "metadata": {
    "collapsed": false
   },
   "id": "c537e12344716e0",
   "execution_count": 28
  },
  {
   "cell_type": "markdown",
   "source": [
    "**VERIFY:** Run some checks to verify that the changes you made to the code were correct. Some of the checks should fail when you initially run the cells. After completing the exercises, the checks should pass."
   ],
   "metadata": {
    "collapsed": false
   },
   "id": "85bf30d5a992ecc6"
  },
  {
   "cell_type": "code",
   "outputs": [
    {
     "name": "stdout",
     "output_type": "stream",
     "text": [
      "Success! The example took 2.5343973636627197 seconds.\n"
     ]
    }
   ],
   "source": [
    "assert results == [1, 1, 2, 2, 3, 3, 4, 4, 5, 5]\n",
    "\n",
    "assert duration < 3, ('The experiments ran in {} seconds. This is too '\n",
    "                      'slow.'.format(duration))\n",
    "assert duration > 2.5, ('The experiments ran in {} seconds. This is too '\n",
    "                        'fast.'.format(duration))\n",
    "\n",
    "print('Success! The example took {} seconds.'.format(duration))"
   ],
   "metadata": {
    "collapsed": false
   },
   "id": "b97d77030a0685c9",
   "execution_count": 29
  },
  {
   "cell_type": "markdown",
   "source": [
    "***\n",
    "## Part 4 - Handling Slow Tasks\n",
    "\n",
    "**GOAL:** The goal of this exercise is to show how to use `ray.wait` to avoid waiting for slow tasks.\n",
    "\n",
    "See the documentation for ray.wait at https://docs.ray.io/en/latest/ray-core/api/doc/ray.wait.html.\n",
    "\n",
    "This script starts 6 tasks, each of which takes a random amount of time to complete. We'd like to process the results in two batches (each of size 3). Change the code so that instead of waiting for a fixed set of 3 tasks to finish, we make the first batch consist of the first 3 tasks that complete. The second batch should consist of the 3 remaining tasks. Do this exercise by using `ray.wait`.\n",
    "\n",
    "### Concepts for this Exercise - ray.wait\n",
    "\n",
    "After launching a number of tasks, you may want to know which ones have finished executing. This can be done with `ray.wait`. The function works as follows.\n",
    "\n",
    "```python\n",
    "ready_ids, remaining_ids = ray.wait(object_ids, num_returns=1, timeout=None)\n",
    "```\n",
    "\n",
    "**Arguments:**\n",
    "- `object_ids`: This is a list of object IDs.\n",
    "- `num_returns`: This is maximum number of object IDs to wait for. The default value is `1`.\n",
    "- `timeout`: This is the maximum amount of time in milliseconds to wait for. So `ray.wait` will block until either `num_returns` objects are ready or until `timeout` milliseconds have passed.\n",
    "\n",
    "**Return values:**\n",
    "- `ready_ids`: This is a list of object IDs that are available in the object store.\n",
    "- `remaining_ids`: This is a list of the IDs that were in `object_ids` but are not in `ready_ids`, so the IDs in `ready_ids` and `remaining_ids` together make up all the IDs in `object_ids`."
   ],
   "metadata": {
    "collapsed": false
   },
   "id": "515b25c1cc382a7d"
  },
  {
   "cell_type": "markdown",
   "source": [
    "Define a remote function that takes a variable amount of time to run."
   ],
   "metadata": {
    "collapsed": false
   },
   "id": "42a962991ebe87c9"
  },
  {
   "cell_type": "code",
   "outputs": [],
   "source": [
    "@ray.remote\n",
    "def f(i):\n",
    "    np.random.seed(5 + i)\n",
    "    x = np.random.uniform(0, 4)\n",
    "    time.sleep(x)\n",
    "    return i, time.time()"
   ],
   "metadata": {
    "collapsed": false
   },
   "id": "f074581413569513",
   "execution_count": 30
  },
  {
   "cell_type": "markdown",
   "source": [
    "**EXERCISE:** Using `ray.wait`, change the code below so that `initial_results` consists of the outputs of the first three tasks to complete instead of the first three tasks that were submitted."
   ],
   "metadata": {
    "collapsed": false
   },
   "id": "e1d5df3925dc3632"
  },
  {
   "cell_type": "code",
   "outputs": [],
   "source": [
    "# Sleep a little to improve the accuracy of the timing measurements below.\n",
    "time.sleep(2.0)\n",
    "start_time = time.time()\n",
    "\n",
    "# This launches 6 tasks, each of which takes a random amount of time to\n",
    "# complete.\n",
    "result_ids = [f.remote(i) for i in range(6)]\n",
    "# Get one batch of tasks. Instead of waiting for a fixed subset of tasks, we\n",
    "# should instead use the first 3 tasks that finish.\n",
    "initial_results, initial_to_end = ray.wait(result_ids, num_returns=3, timeout=None)\n",
    "initial_results = ray.get(initial_results)\n",
    "\n",
    "end_time = time.time()\n",
    "duration = end_time - start_time"
   ],
   "metadata": {
    "collapsed": false
   },
   "id": "8bc87828350d4f8",
   "execution_count": 31
  },
  {
   "cell_type": "markdown",
   "source": [
    "**EXERCISE:** Change the code below so that `remaining_results` consists of the outputs of the last three tasks to complete."
   ],
   "metadata": {
    "collapsed": false
   },
   "id": "bc690fab568a7b2c"
  },
  {
   "cell_type": "code",
   "outputs": [],
   "source": [
    "# Wait for the remaining tasks to complete.\n",
    "remaining_results, _ = ray.wait(initial_to_end, num_returns=3, timeout=None)\n",
    "remaining_results = ray.get(remaining_results)"
   ],
   "metadata": {
    "collapsed": false
   },
   "id": "f572438b64f3109e",
   "execution_count": 32
  },
  {
   "cell_type": "markdown",
   "source": [
    "**VERIFY:** Run some checks to verify that the changes you made to the code were correct. Some of the checks should fail when you initially run the cells. After completing the exercises, the checks should pass."
   ],
   "metadata": {
    "collapsed": false
   },
   "id": "bc3963e7a331d603"
  },
  {
   "cell_type": "code",
   "outputs": [
    {
     "name": "stdout",
     "output_type": "stream",
     "text": [
      "Success! The example took 1.009840726852417 seconds.\n"
     ]
    }
   ],
   "source": [
    "assert len(initial_results) == 3\n",
    "assert len(remaining_results) == 3\n",
    "\n",
    "initial_indices = [result[0] for result in initial_results]\n",
    "initial_times = [result[1] for result in initial_results]\n",
    "remaining_indices = [result[0] for result in remaining_results]\n",
    "remaining_times = [result[1] for result in remaining_results]\n",
    "\n",
    "assert set(initial_indices + remaining_indices) == set(range(6))\n",
    "\n",
    "assert duration < 1.5, ('The initial batch of ten tasks was retrieved in '\n",
    "                        '{} seconds. This is too slow.'.format(duration))\n",
    "\n",
    "assert duration > 0.8, ('The initial batch of ten tasks was retrieved in '\n",
    "                        '{} seconds. This is too fast.'.format(duration))\n",
    "\n",
    "# Make sure the initial results actually completed first.\n",
    "assert max(initial_times) < min(remaining_times)\n",
    "\n",
    "print('Success! The example took {} seconds.'.format(duration))"
   ],
   "metadata": {
    "collapsed": false
   },
   "id": "7f868867384aa5d9",
   "execution_count": 33
  },
  {
   "cell_type": "markdown",
   "source": [
    "## Part 5 - Speed up Serialization\n",
    "\n",
    "**GOAL:** The goal of this exercise is to illustrate how to speed up serialization by using `ray.put`.\n",
    "\n",
    "### Concepts for this Exercise - ray.put\n",
    "\n",
    "Object IDs can be created in multiple ways.\n",
    "- They are returned by remote function calls.\n",
    "- They are returned by actor method calls.\n",
    "- They are returned by `ray.put`.\n",
    "\n",
    "When an object is passed to `ray.put`, the object is serialized using the Apache Arrow format (see https://arrow.apache.org/ for more information about Arrow) and copied into a shared memory object store. This object will then be available to other workers on the same machine via shared memory. If it is needed by workers on another machine, it will be shipped under the hood.\n",
    "\n",
    "**When objects are passed into a remote function, Ray puts them in the object store under the hood.** That is, if `f` is a remote function, the code\n",
    "\n",
    "```python\n",
    "x = np.zeros(1000)\n",
    "f.remote(x)\n",
    "```\n",
    "\n",
    "is essentially transformed under the hood to\n",
    "\n",
    "```python\n",
    "x = np.zeros(1000)\n",
    "x_id = ray.put(x)\n",
    "f.remote(x_id)\n",
    "```\n",
    "\n",
    "The call to `ray.put` copies the numpy array into the shared-memory object store, from where it can be read by all of the worker processes (without additional copying). However, if you do something like\n",
    "\n",
    "```python\n",
    "for i in range(10):\n",
    "    f.remote(x)\n",
    "```\n",
    "\n",
    "then 10 copies of the array will be placed into the object store. This takes up more memory in the object store than is necessary, and it also takes time to copy the array into the object store over and over. This can be made more efficient by placing the array in the object store only once as follows.\n",
    "\n",
    "```python\n",
    "x_id = ray.put(x)\n",
    "for i in range(10):\n",
    "    f.remote(x_id)\n",
    "```\n",
    "\n",
    "In this exercise, you will speed up the code below and reduce the memory footprint by calling `ray.put` on the neural net weights before passing them into the remote functions.\n",
    "\n",
    "**WARNING:** This exercise requires a lot of memory to run. If this notebook is running within a Docker container, then the docker container must be started with a large shared-memory file system. This can be done by starting the docker container with the `--shm-size` flag."
   ],
   "metadata": {
    "collapsed": false
   },
   "id": "f6bb8c54778eae68"
  },
  {
   "cell_type": "code",
   "outputs": [],
   "source": [
    "neural_net_weights = {'variable{}'.format(i): np.random.normal(size=1000000)\n",
    "                      for i in range(50)}"
   ],
   "metadata": {
    "collapsed": false
   },
   "id": "60242482e441eeeb",
   "execution_count": 34
  },
  {
   "cell_type": "markdown",
   "source": [
    "**EXERCISE:** Compare the time required to serialize the neural net weights and copy them into the object store using Ray versus the time required to pickle and unpickle the weights. The big win should be with the time required for *deserialization*.\n",
    "\n",
    "Note that when you call `ray.put`, in addition to serializing the object, we are copying it into shared memory where it can be efficiently accessed by other workers on the same machine.\n",
    "\n",
    "**NOTE:** You don't actually have to do anything here other than run the cell below and read the output.\n",
    "\n",
    "**NOTE:** Sometimes `ray.put` can be faster than `pickle.dumps`. This is because `ray.put` leverages multiple threads when serializing large objects. Note that this is not possible with `pickle`."
   ],
   "metadata": {
    "collapsed": false
   },
   "id": "5e201ddd40933862"
  },
  {
   "cell_type": "code",
   "outputs": [
    {
     "name": "stdout",
     "output_type": "stream",
     "text": [
      "Ray - serializing\n",
      "CPU times: total: 484 ms\n",
      "Wall time: 339 ms\n",
      "\n",
      "Ray - deserializing\n",
      "CPU times: total: 0 ns\n",
      "Wall time: 997 µs\n",
      "\n",
      "pickle - serializing\n",
      "CPU times: total: 2.27 s\n",
      "Wall time: 6.27 s\n",
      "\n",
      "pickle - deserializing\n",
      "CPU times: total: 203 ms\n",
      "Wall time: 175 ms\n"
     ]
    }
   ],
   "source": [
    "print('Ray - serializing')\n",
    "%time x_id = ray.put(neural_net_weights)\n",
    "print('\\nRay - deserializing')\n",
    "%time x_val = ray.get(x_id)\n",
    "\n",
    "print('\\npickle - serializing')\n",
    "%time serialized = pickle.dumps(neural_net_weights)\n",
    "print('\\npickle - deserializing')\n",
    "%time deserialized = pickle.loads(serialized)"
   ],
   "metadata": {
    "collapsed": false
   },
   "id": "a54d5c96fbb07160",
   "execution_count": 35
  },
  {
   "cell_type": "markdown",
   "source": [
    "Define a remote function which uses the neural net weights."
   ],
   "metadata": {
    "collapsed": false
   },
   "id": "79881ec1b5f3edab"
  },
  {
   "cell_type": "code",
   "outputs": [],
   "source": [
    "@ray.remote\n",
    "def use_weights(weights, i):\n",
    "    len(weights)\n",
    "    return i"
   ],
   "metadata": {
    "collapsed": false
   },
   "id": "878a4b621cc8d7f8",
   "execution_count": 36
  },
  {
   "cell_type": "markdown",
   "source": [
    "**EXERCISE:** In the code below, use `ray.put` to avoid copying the neural net weights to the object store multiple times."
   ],
   "metadata": {
    "collapsed": false
   },
   "id": "7490b7fc637eee85"
  },
  {
   "cell_type": "code",
   "outputs": [],
   "source": [
    "# Sleep a little to improve the accuracy of the timing measurements below.\n",
    "time.sleep(2.0)\n",
    "start_time = time.time()\n",
    "\n",
    "x_id = ray.put(neural_net_weights)\n",
    "\n",
    "results = ray.get([use_weights.remote(x_id, i)\n",
    "                   for i in range(20)])\n",
    "\n",
    "end_time = time.time()\n",
    "duration = end_time - start_time"
   ],
   "metadata": {
    "collapsed": false
   },
   "id": "a64f7226e496f9d1",
   "execution_count": 38
  },
  {
   "cell_type": "markdown",
   "source": [
    "**VERIFY:** Run some checks to verify that the changes you made to the code were correct. Some of the checks should fail when you initially run the cells. After completing the exercises, the checks should pass."
   ],
   "metadata": {
    "collapsed": false
   },
   "id": "ac5a46dfaf9b4496"
  },
  {
   "cell_type": "code",
   "outputs": [
    {
     "name": "stdout",
     "output_type": "stream",
     "text": [
      "Success! The example took 0.8832242488861084 seconds.\n"
     ]
    }
   ],
   "source": [
    "assert results == list(range(20))\n",
    "assert duration < 1, ('The experiments ran in {} seconds. This is too '\n",
    "                      'slow.'.format(duration))\n",
    "\n",
    "print('Success! The example took {} seconds.'.format(duration))"
   ],
   "metadata": {
    "collapsed": false
   },
   "id": "b487df9262dbda79",
   "execution_count": 39
  },
  {
   "cell_type": "code",
   "outputs": [
    {
     "name": "stdout",
     "output_type": "stream",
     "text": [
      "parameter server\n",
      "Actor(ParameterSever, 8e4fa558429e8950fb9952d901000000)\n",
      "Initial params: [0. 0. 0. 0. 0. 0. 0. 0. 0. 0.]\n",
      "[ObjectRef(e3a0a2b2c6761c99ffffffffffffffffffffffff0100000001000000), ObjectRef(28241d0dda191e41ffffffffffffffffffffffff0100000001000000), ObjectRef(aea28d72824b5c00ffffffffffffffffffffffff0100000001000000)]\n",
      "Updated params: [0. 0. 0. 0. 0. 0. 0. 0. 0. 0.]\n",
      "Updated params: [0. 0. 0. 0. 0. 0. 0. 0. 0. 0.]\n",
      "Updated params: [-22. -64. -16. -52. -58. -47. -49. -58. -24. -67.]\n",
      "Updated params: [ -68. -131.  -57.  -88.  -74.  -86.  -92.  -91.  -45. -121.]\n",
      "Updated params: [ -68. -131.  -57.  -88.  -74.  -86.  -92.  -91.  -45. -121.]\n",
      "Updated params: [ -98. -160. -103. -127. -113. -135. -154. -172.  -79. -179.]\n",
      "Updated params: [-133. -202. -140. -160. -141. -183. -170. -206. -128. -211.]\n",
      "Updated params: [-133. -202. -140. -160. -141. -183. -170. -206. -128. -211.]\n",
      "Updated params: [-174. -249. -199. -217. -195. -199. -229. -234. -200. -257.]\n",
      "Updated params: [-221. -291. -238. -264. -244. -238. -300. -275. -234. -291.]\n",
      "Updated params: [-221. -291. -238. -264. -244. -238. -300. -275. -234. -291.]\n",
      "Updated params: [-259. -323. -283. -300. -276. -299. -339. -324. -275. -341.]\n",
      "Updated params: [-294. -381. -320. -325. -338. -344. -371. -364. -312. -375.]\n",
      "Updated params: [-294. -381. -320. -325. -338. -344. -371. -364. -312. -375.]\n",
      "Updated params: [-311. -426. -364. -374. -384. -389. -413. -405. -352. -410.]\n",
      "Updated params: [-385. -468. -406. -390. -426. -435. -437. -442. -396. -446.]\n",
      "Updated params: [-385. -468. -406. -390. -426. -435. -437. -442. -396. -446.]\n",
      "Updated params: [-422. -524. -425. -444. -482. -497. -469. -476. -457. -490.]\n",
      "Updated params: [-443. -561. -445. -463. -546. -558. -496. -529. -520. -548.]\n",
      "Updated params: [-443. -561. -445. -463. -546. -558. -496. -529. -520. -548.]\n"
     ]
    }
   ],
   "source": [
    "# Example: Parameter Server distributed application with Ray Actors\n",
    "# Problem: We want to update weights and gradients, computed by workers, at a central server.\n",
    "# Let's use Python class and convert that to a remote Actor class actor as a Parameter Server.\n",
    "# This is a common example in machine learning where you have a central\n",
    "# Parameter server updating gradients from other worker processes computing individual gradients.\n",
    "\n",
    "print('parameter server')\n",
    "@ray.remote\n",
    "class ParameterSever:\n",
    "    def __init__(self):\n",
    "        # Initialized our gradients to zero\n",
    "        self.params = np.zeros(10)\n",
    "\n",
    "    def get_params(self):\n",
    "        # Return current gradients\n",
    "        return self.params\n",
    "\n",
    "    def update_params(self, grad):\n",
    "        # Update the gradients\n",
    "        self.params -= grad\n",
    "\n",
    "# Define a worker or task as a function for a remote Worker. This could be a\n",
    "# machine learning function that computes gradients and sends them to\n",
    "# the parameter server.\n",
    "\n",
    "@ray.remote\n",
    "def worker(ps):         # It takes an actor handle or instance as an argument\n",
    "    # Iterate over some epoch\n",
    "    for i in range(25):\n",
    "        time.sleep(1.5)  # this could be your loss function computing gradients\n",
    "        #grad = np.ones(10)\n",
    "        from numpy import random\n",
    "        grad = random.randint(30, size=(10))\n",
    "        # update the gradients in the parameter server\n",
    "        ps.update_params.remote(grad)\n",
    "\n",
    "# Start our Parameter Server actor. This will be scheduled as a worker process\n",
    "# on a remote Ray node. You invoke its ActorClass.remote(...) to instantiate an\n",
    "# Actor instance of that type.\n",
    "\n",
    "param_server = ParameterSever.remote()\n",
    "print(param_server)\n",
    "\n",
    "# Let's get the initial values of the parameter server\n",
    "print(f\"Initial params: {ray.get(param_server.get_params.remote())}\")\n",
    "\n",
    "# Create Workers remote tasks computing gradients\n",
    "# Let's create three separate worker tasks as our machine learning tasks\n",
    "# that compute gradients. These will be scheduled as tasks on a Ray cluster.\n",
    "\n",
    "# You can use list comprehension.\n",
    "# If we need more workers to scale, we can always bump them up.\n",
    "# Note: We are sending the parameter_server as an argument to the remote worker task.\n",
    "\n",
    "print([worker.remote(param_server) for _ in range(3)])\n",
    "\n",
    "# Now, let's iterate over a loop and query the Parameter Server as the\n",
    "# workers are running independently and updating the gradients\n",
    "\n",
    "for _i in range(20):\n",
    "    print(f\"Updated params: {ray.get(param_server.get_params.remote())}\")\n",
    "    time.sleep(1)"
   ],
   "metadata": {
    "collapsed": false
   },
   "id": "aa9f3cdf9f18063d",
   "execution_count": 40
  },
  {
   "cell_type": "markdown",
   "source": [
    "## Part 6 - Compute Pi using Monte Carlo method\n",
    "**Excercise:** Based on the previous example, create an actor-based system that can compute Pi using the Monte Carlo method. There should be one supervising actor and computing tasks/actors. \n",
    "\n",
    "Hint: take a look on https://docs.ray.io/en/latest/ray-core/examples/monte_carlo_pi.html . However, we do not want to have progress listed. Instead, we want to see as we get closer to the Pi value in each round.\n",
    "\n",
    "\n",
    "![monte-carlo](img/monte_carlo_pi_sma.png)\n"
   ],
   "metadata": {
    "collapsed": false
   },
   "id": "e33ffc2cadd7be89"
  },
  {
   "cell_type": "code",
   "outputs": [
    {
     "name": "stdout",
     "output_type": "stream",
     "text": [
      "Actor(MonteCarlosPi, d6859216542758eb4c7736c301000000)\n",
      "Initial params: 0\n",
      "[ObjectRef(d0cc07993b31210dffffffffffffffffffffffff0100000001000000), ObjectRef(aa3d54fc8a66be91ffffffffffffffffffffffff0100000001000000), ObjectRef(b888db822d6cb570ffffffffffffffffffffffff0100000001000000)]\n",
      "Updated params: 0\n",
      "Updated params: 3.255813953488372\n",
      "Updated params: 3.195266272189349\n",
      "Updated params: 3.130434782608696\n",
      "Updated params: 3.1666666666666665\n",
      "Updated params: 3.146282973621103\n",
      "Updated params: 3.1743486973947896\n",
      "Updated params: 3.1903945111492282\n",
      "Updated params: 3.202435312024353\n",
      "Updated params: 3.1890410958904107\n",
      "Updated params: 3.1801242236024843\n",
      "Updated params: 3.189189189189189\n",
      "Updated params: 3.191752577319588\n",
      "Updated params: 3.1870845204178537\n",
      "Updated params: 3.176056338028169\n",
      "Updated params: 3.1684470008216925\n",
      "Updated params: 3.185242121445042\n",
      "Updated params: 3.179783393501805\n",
      "Updated params: 3.1814461118690316\n",
      "Updated params: 3.1834625322997416\n"
     ]
    }
   ],
   "source": [
    "@ray.remote\n",
    "class MonteCarlosPi:\n",
    "    no_points_inside_circle = 0\n",
    "    no_points_total = 0\n",
    "    def __init__(self):\n",
    "        self.no_points_inside_circle = 0\n",
    "        self.no_points_total = 0\n",
    "\n",
    "    def get_pi(self):\n",
    "        if self.no_points_total == 0:\n",
    "            return 0\n",
    "        return 4 * self.no_points_inside_circle / self.no_points_total\n",
    "\n",
    "    def increment_points(self, no_points_inside_circle, no_points_total):\n",
    "        self.no_points_inside_circle += no_points_inside_circle\n",
    "        self.no_points_total += no_points_total\n",
    "\n",
    "@ray.remote\n",
    "def worker(ps, no_tries):\n",
    "    for i in range(no_tries):\n",
    "        time.sleep(0.01)\n",
    "        x = random.uniform(-1, 1)\n",
    "        y = random.uniform(-1, 1)\n",
    "        if x**2 + y**2 <= 1:\n",
    "            no_points_inside_circle = 1\n",
    "        else:\n",
    "            no_points_inside_circle = 0\n",
    "        no_points_total = 1\n",
    "        ps.increment_points.remote(no_points_inside_circle, no_points_total)\n",
    "\n",
    "mc_server = MonteCarlosPi.remote()\n",
    "print(mc_server)\n",
    "\n",
    "print(f\"Initial params: {ray.get(mc_server.get_pi.remote())}\")\n",
    "\n",
    "print([worker.remote(mc_server, 10000) for _ in range(3)])\n",
    "\n",
    "for _i in range(20):\n",
    "    print(f\"Updated params: {ray.get(mc_server.get_pi.remote())}\")\n",
    "    time.sleep(1)"
   ],
   "metadata": {
    "collapsed": false,
    "ExecuteTime": {
     "end_time": "2024-03-26T14:47:10.433505900Z",
     "start_time": "2024-03-26T14:47:10.396512Z"
    }
   },
   "id": "6f48a5bffd5f672b",
   "execution_count": 42
  },
  {
   "cell_type": "markdown",
   "source": [
    "## Part 7 - Parallel merge sort (homework)\n",
    "**Excercise:** Based on the previous examples, create a sequential and parallel implementation of the merge sort algorithm. You can choose any version of the parallel algorithm. Compare performance.\n"
   ],
   "metadata": {
    "collapsed": false
   },
   "id": "2579f4f51268ecf4"
  },
  {
   "cell_type": "code",
   "outputs": [
    {
     "name": "stdout",
     "output_type": "stream",
     "text": [
      "[1210.3289163078823, 9914.475967136596, 4995.817573818202, 4503.637686345442, 2465.3520639528447, 8368.990231228943, 1396.2510038831942, 1889.495320853223, 9164.923278844473, 1729.238601401384, 2779.1908874696246, 9667.108107393507, 185.43670529007295, 5565.84807756924, 7862.880781548715, 564.5119248064756, 5211.842175104464, 3183.80626269993, 4725.638027368029, 8394.375888489676, 5371.774845745797, 5087.457943497856, 9439.712490129958, 9861.256027668749, 1212.4118480232116, 4523.133369277459, 3385.3076391287473, 807.9323442581455, 6664.061004356704, 654.6739745924823, 8962.750351042232, 5462.828770297612, 5854.188870617293, 366.2758178606207, 1870.5024403549507, 7220.058977633539, 1551.157316969164, 113.45420487028358, 2699.3590687024084, 8842.55173853872, 7588.290050453418, 7854.25583822717, 4221.578646489736, 8120.173602884434, 5197.533127047322, 9466.55969553468, 3064.4211125157626, 8640.931859064727, 3213.0282771932884, 6573.938302332856, 9660.000428619824, 1793.3546123200672, 4641.018162103301, 9409.427971396737, 6085.319390804975, 2534.5517218240852, 5135.909264036308, 2577.1734970360317, 2978.31693490494, 8839.295140846905, 5591.901396847799, 2089.857670465457, 9880.335560677726, 2677.26445305432, 4369.551608167381, 8316.413197955188, 8422.464448996598, 5851.118399651945, 8145.194898882336, 398.67137647619177, 6852.662068634756, 9228.221549663074, 3646.643739100058, 3901.8425940548386, 2302.0024057442, 6361.3292855394675, 8402.572918418151, 6899.14191232649, 1271.0254671495625, 5921.921851869053, 5568.677219346146, 8138.032135791449, 9272.967601120228, 6434.531405184388, 8783.315956441647, 8331.65626134762, 3752.485080580191, 6078.357739253071, 5621.666926367723, 5811.918785453027, 1807.3876766022702, 5430.0910230875525, 9870.462575621026, 7524.32368638421, 6554.629304639772, 2258.0897960804027, 8656.798896860999, 5118.931073977109, 2836.918853409084, 9648.244271073914, 4334.290932369375, 7918.905145688367, 1017.4723738983105, 487.33226758643445, 1661.2488620895704, 5751.252835593491, 6919.368543052913, 7446.951115168337, 9312.581684365427, 7141.054403380279, 641.0948145190542, 778.9371374168841, 4659.005748000525, 1422.518307130658, 1507.6697343731882, 4522.902749575424, 3627.026009350903, 1599.8909865721, 1854.6035954224826, 1231.6383601976877, 6727.8223581607335, 991.1491894648683, 6719.862133073351, 6305.430776009505, 2692.1513266073284, 8157.1741941881455, 5827.094688690997, 2104.2270789857944, 2962.8793577713463, 3590.118447795229, 198.86105838919698, 5208.419111793918, 3536.395314167291, 8618.264132959779, 6215.513041604238, 2746.8657796341854, 2429.3330949630754, 8305.686856743961, 5927.2694563359555, 9350.129655226681, 9567.731713553449, 652.6450205930989, 5687.559473807439, 8320.791217383763, 1408.2556840024506, 937.7172905812947, 2039.8942734359925, 8037.080457612996, 1553.1862285822317, 6096.61380551282, 7883.261699475954, 5177.887295176554, 5941.5997063953, 2279.2391899220456, 4817.159078878795, 7427.928558627327, 5445.731590788877, 5811.958456047983, 9395.02994148824, 563.6015998791322, 2671.9895789066472, 944.4749003388098, 3902.248465283089, 408.08099025991805, 4173.897934508238, 7681.79338936901, 579.0037379935952, 5779.812773529028, 820.4240722403, 2853.2844195691964, 8740.504573115972, 1594.7842885964858, 1414.0785038665426, 1531.7951497796478, 1629.0319425616574, 3001.749381569392, 7259.820687827392, 8930.476165707876, 8471.883970846398, 9593.738153931286, 9056.756104430766, 8210.62653408956, 6323.654406337949, 1015.7570242375335, 5213.281759307766, 2058.9757379422904, 2756.0172820424577, 7659.607182609883, 4212.258018175762, 9954.264233585616, 6081.2554102553595, 227.92855147472423, 1969.147485406213, 3924.825206963362, 695.1338008899022, 3274.158501831982, 8234.312309812163, 6781.132672557693, 1038.7256960409995, 2823.403580040221, 9693.444811601406, 3503.610756417623, 4824.922121063508, 8902.07754841256, 7092.705451614622, 4627.928105661624, 5731.330873420297, 1239.3149477574195, 9784.139318905716, 2886.399564644947, 9043.312777905034, 3506.626811128126, 6457.7787877398105, 7349.718120644923, 5667.546112979861, 3257.6414606741178, 6227.907813524055, 3007.6727774028986, 9727.610432891532, 2321.8805410479035, 5036.412042381215, 656.2982560803887, 9887.799232016567, 4436.001500996271, 3906.8885194759996, 4063.679253438033, 8023.835162277263, 4146.088884968838, 1044.7657694455736, 5936.607586119567, 3409.3098834713455, 4013.9894652200137, 1489.5397766317153, 4558.176717314576, 45.55737856853703, 3323.3404983807977, 1287.6304310927799, 2038.5928516871766, 9941.12315637273, 3717.6908821393095, 7688.760266687944, 543.5279514467472, 1865.1174802458481, 6307.811848168106, 4903.561005671412, 8999.538897354527, 2711.6483057538408, 3313.3451400938975, 9648.194067541626, 1367.7932010134052, 9621.613190575994, 6150.249665662679, 4591.554316635591, 5305.250498656486, 4568.257663178006, 5090.911599550256, 3685.941149014057, 6081.13449346409, 3934.9484065230813, 2708.539293497928, 8688.276085160684, 4620.567809908319, 1626.177792116954, 5205.990616167264, 7777.0975209538265, 7048.103337870002, 9633.586837479876, 2246.0881938906396, 9166.963948163379, 9754.11276605105, 9320.967971748987, 1629.383508922856, 3984.3352361720686, 39.388547640847314, 6295.139554734172, 7476.460880233107, 7274.4992696688405, 6500.870110321908, 9928.46541484714, 2277.558745212467, 6359.663415251682, 7271.03636861798, 2660.314726944526, 7329.9887358198175, 3030.8797429920487, 1647.0958335143337, 1272.8825947422529, 7274.014779166398, 2152.7395325136767, 3641.7889792372403, 1915.3732439007954, 1949.604624412633, 8209.563043018408, 2126.240789296412, 1126.2228754917303, 8143.2372674487715, 1272.9478234598014, 1198.156153836577, 6870.562932632681, 5359.326262194488, 6746.787225938036, 1788.332933033936, 8145.672870599114, 5334.3354128897745, 4770.6452507918575, 777.0173437845107, 3948.186549648681, 9590.196370583884, 7500.237777328693, 9126.769230213293, 8602.485173674932, 5124.528010406091, 5625.3458961189735, 475.43123650778506, 546.849308282078, 3854.3174199917353, 8714.95680765514, 8451.710907164626, 7595.383676234145, 8239.813203600645, 6116.406644955803, 3276.0141227650906, 9506.697619135863, 9748.458473926705, 5835.417794576452, 1687.5884122752993, 1541.6555006016274, 5888.417013746144, 2893.9245461858686, 1426.7405345288807, 3118.9386439044806, 5066.008620399257, 5947.659432089085, 9372.342009545264, 3512.393988499082, 5912.143492262626, 1031.5692056698078, 1506.8073635993285, 3908.306369735246, 4600.9060084775765, 921.8241295435759, 7000.56574852737, 114.48188584511576, 2009.65622002799, 442.9840872205615, 9804.791150924219, 321.3136853119547, 3535.247025570206, 7140.462398681419, 1558.9524386691155, 6346.965175406804, 6455.533572978453, 7833.637865021858, 9337.964496614037, 2223.21236921789, 5364.000628950957, 3911.309514458675, 8974.614108570517, 9853.739094458451, 7139.25829678556, 3485.765869341002, 6229.746831974759, 6255.459443708206, 4508.625436148946, 4071.393322170328, 9272.723102121681, 7052.600713842981, 5637.7443490720225, 480.2646193813009, 2227.1800250180218, 1748.691098220253, 5233.349004529874, 5043.89657676636, 9271.032938683247, 942.1908451485905, 8467.487170689217, 5466.061201508089, 382.74015533246387, 8402.862444356006, 9570.792919062269, 2007.8627451902032, 4814.725817060113, 2980.111375466119, 986.254741853968, 3817.726175857673, 8838.26928182337, 5755.601492874413, 4264.849833884944, 4842.002171122812, 3365.520265039167, 7275.958711434763, 8061.002278845843, 5145.581222740825, 5449.332207334401, 6472.364581028888, 4434.690205097747, 6297.074181906303, 3809.796979196196, 5647.933390806911, 7629.645692876062, 3386.755559855125, 7841.83569570209, 2207.7917792390954, 1695.3216181748776, 6691.582243985661, 3056.737472048936, 7476.949427574383, 4490.75848484775, 7080.558986225024, 1425.3620422353497, 5983.776784317305, 7338.961793450872, 5663.815948883779, 3136.9310692558392, 8262.076783778148, 1751.0612887216926, 4605.320463303799, 1597.686405979749, 7095.017436513344, 2654.4997701076654, 9095.190587456313, 4906.325458434969, 864.1141058523427, 6584.718857855163, 1750.6698017272092, 9122.457223509702, 7192.553868456045, 3681.54454289083, 3967.9938606938927, 1940.5518958867585, 968.613953446853, 9279.337879634362, 9625.381879886125, 9831.490754623954, 5238.502888675594, 3840.4934279206636, 8629.09442187022, 9187.681634722054, 5822.063908785869, 3611.3842874072975, 7587.551274699655, 9993.910649517533, 9985.707730535869, 1142.6717924216368, 7428.455876692029, 3918.7424298982955, 6278.471070928632, 2444.57261849925, 2928.746871767456, 4923.256616245688, 3079.50578407587, 543.1150165433507, 5416.671867320536, 6425.153737144341, 975.3510660683972, 6360.279406325905, 3107.924904636402, 7465.531336880545, 2507.499531343793, 8479.492484630324, 9937.34216087161, 7957.219371099269, 624.299809425174, 239.89218922463084, 975.8490384291929, 9412.505213365344, 81.99458711729667, 8531.002551684365, 7897.19476719743, 4433.36356912204, 963.495751954847, 4848.995751892005, 8442.350771251427, 7994.561054863736, 7588.151429204722, 2004.0424368549204, 1843.3652033962055, 6718.66652208767, 3020.054552740784, 4793.969726958655, 8827.53056945268, 1145.17129925344, 5085.353983531612, 9088.99566516186, 951.7578607541077, 4121.967339851514, 8597.064888695413, 6953.40898219883, 797.913616998639, 2023.4424444652977, 9716.336717785316, 1686.5175414821042, 5871.3282536054785, 367.7298158761777, 1811.3741363217184, 2729.396503884296, 8618.768708282882, 7668.828931796298, 57.793531600719426, 4822.411927396491, 8889.278924031627, 584.5572289330137, 7991.4873790494175, 1587.69300654224, 9815.410878606066, 3178.328571754072, 3337.2811881341704, 5860.041180877448, 1551.9073460894517, 9515.48484667367, 8427.81753690834, 6055.746044155803, 9470.89630385514, 8825.00549355548, 732.0414071996462, 5628.366901119594, 1118.7122458684385, 34.66866029271043, 1810.325026190851, 3000.698510230737, 5693.532267599388, 1583.9401253150666, 2212.386548395022, 2266.6031066203896, 9805.365998941681, 1885.671738249295, 6952.623150593754, 1972.1571261629645, 6922.977768649304, 4936.6636285711065, 8592.099579624708, 6528.481669639792, 3931.298692545536, 7230.629283348064, 9838.392032644679, 2981.4405277558253, 5707.847318464829, 4312.783886156787, 6335.484647461306, 1971.531063457601, 9992.069034217615, 8840.9139461107, 9084.067160006389, 9885.67581139918, 1599.4942480720886, 5631.754578855195, 7331.609042019863, 7069.928844239524, 2817.6547062365985, 9415.921242321354, 7095.799718397437, 937.1557883891957, 710.6615752081702, 7315.175895981114, 9621.054147228944, 5877.519439408296, 9300.663395302625, 6979.820374966921, 5840.045922985069, 388.356551080109, 7095.742938403185, 1640.4767812324394, 2037.5935190137461, 3702.735700682724, 6537.298492686985, 100.67304117617692, 9384.841196959764, 6037.420464402675, 3706.2821167216066, 8884.65548820801, 6970.721746536063, 9101.7232889758, 3629.4030287898618, 6211.602372881666, 2108.038793740914, 9035.471140799516, 5361.355534490463, 675.3796134893541, 543.7946878735589, 4823.052771769759, 3794.7525519744695, 535.5886023349299, 6991.2538121687, 2937.5729372651062, 2277.2225460834093, 7501.09328438349, 5012.312270087148, 2239.171424762981, 4680.98474252324, 4521.358459882532, 2289.556287963804, 6794.601935279773, 4041.944165924907, 1457.5489072347668, 9648.862197940221, 6792.998925008371, 759.8607630807397, 7472.017781720576, 5555.021667574206, 2770.946806415748, 1527.9468796950712, 5695.682066677969, 6795.607073507021, 9619.315052770537, 5061.746661091554, 7662.4243371085695, 7063.339492272545, 1492.9484285287053, 16.539058326809908, 1023.149215315724, 7316.843454749934, 2130.354202931515, 6014.630976857877, 6931.316309807056, 360.2254607550459, 5886.7531517643665, 3204.388963018575, 7951.839774333429, 7365.834475752473, 4319.236045764674, 1555.0555033158419, 5484.132595142806, 300.8768479608026, 2030.5936449184637, 8453.401776479397, 4196.829309448942, 64.24203378315285, 7028.680552553709, 3949.190587752539, 4320.704144757047, 5364.895952258092, 9638.820522222724, 8693.946102676971, 3183.084787066189, 9750.037890431162, 7254.826420738691, 4481.257473743386, 9603.857822847316, 7202.219057553128, 8211.193713579152, 5112.469903727528, 5590.847059159078, 4793.367048990326, 5792.746349405321, 4899.29237315076, 6444.687315956819, 1740.8618047445611, 5161.416201367062, 503.4183519994395, 4707.9435097201185, 3814.063938338658, 2602.086603953949, 8604.149359727038, 7400.639319295033, 5496.694454166865, 9767.467682826897, 1752.3637887641307, 1333.4457310607584, 466.8367005741325, 4976.597464271959, 1598.6120026575322, 3677.8366268452587, 4066.410348461029, 3861.872259155742, 9745.874392437392, 5805.415862002115, 8504.10402766984, 4937.973386641142, 1385.6084970720794, 2301.1197390700822, 2635.1198502937, 1718.8955875209688, 2983.164538975265, 880.2526394353572, 4185.1387998985665, 312.7743671249861, 3867.5592212460906, 573.9423744053806, 1232.463793578079, 8741.009874986119, 7582.978161810728, 3781.6594789750634, 7278.389234972302, 9503.167624655664, 6153.886104886127, 8504.477786028387, 5986.068125009646, 8404.404654875127, 7870.2407142309885, 7760.281187335594, 2618.1897352465735, 3370.489644698074, 6927.179874902291, 4741.128772223769, 5075.239700798011, 1276.9073129172048, 1412.841770056824, 9483.283606261746, 2938.095929918382, 1565.806027011215, 8651.76320540424, 1336.5392726417347, 879.5587865184862, 9376.937639325564, 4339.294767744703, 7896.93387345216, 8328.69408112381, 4440.52263726923, 5866.437789342768, 7019.800283912101, 567.4080944149373, 2511.817892660304, 9282.634670897523, 3836.4742608398496, 6412.716295720274, 2049.861296993295, 5551.144485352557, 3712.400726222819, 909.0409144104783, 8513.49935338207, 7044.574412564325, 871.0865239966037, 7851.186251196086, 6160.419380316283, 6772.989323725632, 4942.948806994545, 3322.4894168690944, 9817.774396543238, 690.7486882346192, 5567.357879883966, 4758.966199108453, 393.69282669652006, 7736.112345688908, 550.8683231439283, 9625.50983088312, 8869.348374567813, 9163.025064896541, 6202.261647215844, 630.464329634196, 3265.971556848418, 499.4150722568169, 8996.377776317528, 4403.089095920289, 6575.846493573152, 4020.8481705009904, 4456.351626558043, 6532.258727106427, 5905.324601514752, 2636.142598539263, 8762.431353087222, 8010.997418417675, 9762.970414024749, 3898.1912798998233, 5312.574641558271, 5912.164850785435, 8037.32158854841, 2702.9944876769364, 3254.0321878767063, 3123.8278988152533, 3033.4483373876674, 8370.808179286907, 9701.088948960502, 3752.811816532997, 78.54922870260906, 6694.478721934846, 8283.93018189286, 2407.747884365551, 8108.293691660356, 6962.40106137242, 6805.906275697037, 9076.992091005275, 698.0677525361068, 8451.03057566879, 6471.945255003502, 8154.275666311729, 7202.497756569061, 5459.356886291791, 9923.589526247291, 4204.034678082708, 759.6890523020871, 2138.5237752835496, 4103.339888184933, 6395.35375865892, 6845.3739556178825, 7793.16749954012, 7496.167838985337, 705.138694505274, 3352.521079250342, 404.59582447528675, 8336.68780849285, 3323.8284012697472, 7172.354733641126, 9060.133088712271, 8867.38278167438, 2313.959329367764, 1034.0751266142024, 2622.67476189158, 9300.12127180353, 4515.79202079643, 5056.035951709292, 2190.8651437332605, 1788.013941540645, 4393.167046539978, 9729.86685556316, 1209.2910628630639, 6845.252014594219, 3145.125982531278, 7425.921666079403, 7813.951232059748, 8895.763026878041, 8030.664611546321, 5326.101309472925, 7810.855218535413, 8861.450407739325, 7104.934653407975, 7043.2906330010155, 9822.454887830654, 3525.314211238899, 1230.4415636407107, 3692.0984235461874, 3321.733912285998, 4699.805123144638, 8894.207120199742, 207.19869397774815, 6660.399058029806, 3605.83711337767, 4756.858270516773, 928.5669775106765, 8905.236898517966, 3800.993606585004, 2680.773883997274, 7494.607958708713, 1009.4463546335841, 8089.52357769173, 6803.438801034469, 5397.857256195472, 334.07045096268683, 2684.2805231546095, 9492.584949112366, 1029.4488645171818, 1948.1136570350134, 6120.383819942635, 5025.985853971926, 4206.922225763464, 3174.439182767637, 9751.06885471076, 5667.960695483956, 6231.474658802753, 5093.344390957652, 6714.398711375688, 4896.786454040391, 8348.513398853509, 5191.753017839137, 890.7461601939015, 6095.3021477484035, 452.8107930240244, 3274.718991836627, 8136.8741697021715, 6093.385685858235, 9486.97987441936, 2280.0717177254014, 3827.8791159657712, 8253.511850135696, 9046.169018311446, 3401.332423375335, 1034.587455063557, 1475.6704197283975, 9097.088112594422, 2932.177355572407, 3779.603086700474, 7372.744063653507, 6210.092911077341, 9344.982164209092, 7228.2813853967045, 7904.552727334332, 3242.4369719323254, 5798.340396675467, 6867.230109384966, 5616.043881650337, 4233.913395518153, 6800.970726926071, 4204.865487908263, 7852.273799320417, 6839.900443366094, 5610.792716969173, 5706.111096499595, 7330.573761942981, 5916.512902250155, 2483.562751782834, 9849.46235246184, 6215.277451626124, 4811.405926256784, 1810.7275243742372, 2851.59545272756, 8971.886255353844, 3165.86922161498, 663.2718655331571, 4846.722966320839, 3539.2898681726792, 2306.7453653568914, 1660.277792623701, 6247.9885605273785, 2273.683007742554, 3643.385580670173, 2497.4390127289234, 7630.329027018358, 142.90882995038334, 6632.39946957193, 6139.080370014949, 5139.541804072374, 1232.0149842506235, 9615.874099868599, 4237.932846061401, 5627.7355023287155, 419.9689327401068, 3557.9063340057805, 405.8925839480132, 3823.949486795606, 6741.640886651523, 9424.620839582285, 336.48548496295507, 1389.2060457119437, 7523.592822840382, 5444.707999046797, 116.0561931101689, 1184.6349849160454, 254.6257474833391, 3391.335609969426, 5009.013052610006, 9318.407554236499, 6660.455731355307, 7409.791231979176, 9764.106440528736, 3727.380500029429, 7077.080588505008, 1785.8748674823012, 9795.152045775867, 8803.149637776414, 1971.1047648333945, 4204.980360987751, 4741.460584339115, 250.62796963708834, 8818.29455528816, 2845.2414289257213, 5810.437686093488, 4347.264828510429, 7741.754465003066, 4699.218692481712, 3706.2789013251063, 8969.128345386667, 4129.692722403185, 9868.73830495746, 3621.152154110973, 754.3324769703929, 5124.225836458379, 3508.997471793742, 866.1645473265445, 4240.874094681792, 6318.367675657433, 9706.718051620679, 9692.696495504004, 4922.502526695891, 2795.98355321913, 3956.1315640977245, 5895.554879814266, 341.3017671734808, 7294.149341213446, 1680.1647262869678, 4042.355142432812, 2999.979630623819, 379.0534419984304, 2475.8029477694586, 5832.211789978997, 8810.69784720196, 5744.8701975328195, 1026.7340782958079, 1663.8685676854514, 3166.569059549569, 6536.2030578173, 5696.950695387426, 4841.439202009326, 7352.023089979155, 9512.48305141804, 5248.9798867313975, 7071.241238742829, 120.03035904842085, 2725.74151652789, 5991.576572279176, 7029.074750621586, 2922.8359669283277, 729.8895540209904, 1684.687572646224, 3715.54420079916, 8361.70464218991, 4261.346386177084, 7563.394854149291, 3822.7740193539485, 1081.8462936988471, 2931.285526120743, 8887.010250883022]\n",
      "[16.539058326809908, 34.66866029271043, 39.388547640847314, 45.55737856853703, 57.793531600719426, 64.24203378315285, 78.54922870260906, 81.99458711729667, 100.67304117617692, 113.45420487028358, 114.48188584511576, 116.0561931101689, 120.03035904842085, 142.90882995038334, 185.43670529007295, 198.86105838919698, 207.19869397774815, 227.92855147472423, 239.89218922463084, 250.62796963708834, 254.6257474833391, 300.8768479608026, 312.7743671249861, 321.3136853119547, 334.07045096268683, 336.48548496295507, 341.3017671734808, 360.2254607550459, 366.2758178606207, 367.7298158761777, 379.0534419984304, 382.74015533246387, 388.356551080109, 393.69282669652006, 398.67137647619177, 404.59582447528675, 405.8925839480132, 408.08099025991805, 419.9689327401068, 442.9840872205615, 452.8107930240244, 466.8367005741325, 475.43123650778506, 480.2646193813009, 487.33226758643445, 499.4150722568169, 503.4183519994395, 535.5886023349299, 543.1150165433507, 543.5279514467472, 543.7946878735589, 546.849308282078, 550.8683231439283, 563.6015998791322, 564.5119248064756, 567.4080944149373, 573.9423744053806, 579.0037379935952, 584.5572289330137, 624.299809425174, 630.464329634196, 641.0948145190542, 652.6450205930989, 654.6739745924823, 656.2982560803887, 663.2718655331571, 675.3796134893541, 690.7486882346192, 695.1338008899022, 698.0677525361068, 705.138694505274, 710.6615752081702, 729.8895540209904, 732.0414071996462, 754.3324769703929, 759.6890523020871, 759.8607630807397, 777.0173437845107, 778.9371374168841, 797.913616998639, 807.9323442581455, 820.4240722403, 864.1141058523427, 866.1645473265445, 871.0865239966037, 879.5587865184862, 880.2526394353572, 890.7461601939015, 909.0409144104783, 921.8241295435759, 928.5669775106765, 937.1557883891957, 937.7172905812947, 942.1908451485905, 944.4749003388098, 951.7578607541077, 963.495751954847, 968.613953446853, 975.3510660683972, 975.8490384291929, 986.254741853968, 991.1491894648683, 1009.4463546335841, 1015.7570242375335, 1017.4723738983105, 1023.149215315724, 1026.7340782958079, 1029.4488645171818, 1031.5692056698078, 1034.0751266142024, 1034.587455063557, 1038.7256960409995, 1044.7657694455736, 1081.8462936988471, 1118.7122458684385, 1126.2228754917303, 1142.6717924216368, 1145.17129925344, 1184.6349849160454, 1198.156153836577, 1209.2910628630639, 1210.3289163078823, 1212.4118480232116, 1230.4415636407107, 1231.6383601976877, 1232.0149842506235, 1232.463793578079, 1239.3149477574195, 1271.0254671495625, 1272.8825947422529, 1272.9478234598014, 1276.9073129172048, 1287.6304310927799, 1333.4457310607584, 1336.5392726417347, 1367.7932010134052, 1385.6084970720794, 1389.2060457119437, 1396.2510038831942, 1408.2556840024506, 1412.841770056824, 1414.0785038665426, 1422.518307130658, 1425.3620422353497, 1426.7405345288807, 1457.5489072347668, 1475.6704197283975, 1489.5397766317153, 1492.9484285287053, 1506.8073635993285, 1507.6697343731882, 1527.9468796950712, 1531.7951497796478, 1541.6555006016274, 1551.157316969164, 1551.9073460894517, 1553.1862285822317, 1555.0555033158419, 1558.9524386691155, 1565.806027011215, 1583.9401253150666, 1587.69300654224, 1594.7842885964858, 1597.686405979749, 1598.6120026575322, 1599.4942480720886, 1599.8909865721, 1626.177792116954, 1629.0319425616574, 1629.383508922856, 1640.4767812324394, 1647.0958335143337, 1660.277792623701, 1661.2488620895704, 1663.8685676854514, 1680.1647262869678, 1684.687572646224, 1686.5175414821042, 1687.5884122752993, 1695.3216181748776, 1718.8955875209688, 1729.238601401384, 1740.8618047445611, 1748.691098220253, 1750.6698017272092, 1751.0612887216926, 1752.3637887641307, 1785.8748674823012, 1788.013941540645, 1788.332933033936, 1793.3546123200672, 1807.3876766022702, 1810.325026190851, 1810.7275243742372, 1811.3741363217184, 1843.3652033962055, 1854.6035954224826, 1865.1174802458481, 1870.5024403549507, 1885.671738249295, 1889.495320853223, 1915.3732439007954, 1940.5518958867585, 1948.1136570350134, 1949.604624412633, 1969.147485406213, 1971.1047648333945, 1971.531063457601, 1972.1571261629645, 2004.0424368549204, 2007.8627451902032, 2009.65622002799, 2023.4424444652977, 2030.5936449184637, 2037.5935190137461, 2038.5928516871766, 2039.8942734359925, 2049.861296993295, 2058.9757379422904, 2089.857670465457, 2104.2270789857944, 2108.038793740914, 2126.240789296412, 2130.354202931515, 2138.5237752835496, 2152.7395325136767, 2190.8651437332605, 2207.7917792390954, 2212.386548395022, 2223.21236921789, 2227.1800250180218, 2239.171424762981, 2246.0881938906396, 2258.0897960804027, 2266.6031066203896, 2273.683007742554, 2277.2225460834093, 2277.558745212467, 2279.2391899220456, 2280.0717177254014, 2289.556287963804, 2301.1197390700822, 2302.0024057442, 2306.7453653568914, 2313.959329367764, 2321.8805410479035, 2407.747884365551, 2429.3330949630754, 2444.57261849925, 2465.3520639528447, 2475.8029477694586, 2483.562751782834, 2497.4390127289234, 2507.499531343793, 2511.817892660304, 2534.5517218240852, 2577.1734970360317, 2602.086603953949, 2618.1897352465735, 2622.67476189158, 2635.1198502937, 2636.142598539263, 2654.4997701076654, 2660.314726944526, 2671.9895789066472, 2677.26445305432, 2680.773883997274, 2684.2805231546095, 2692.1513266073284, 2699.3590687024084, 2702.9944876769364, 2708.539293497928, 2711.6483057538408, 2725.74151652789, 2729.396503884296, 2746.8657796341854, 2756.0172820424577, 2770.946806415748, 2779.1908874696246, 2795.98355321913, 2817.6547062365985, 2823.403580040221, 2836.918853409084, 2845.2414289257213, 2851.59545272756, 2853.2844195691964, 2886.399564644947, 2893.9245461858686, 2922.8359669283277, 2928.746871767456, 2931.285526120743, 2932.177355572407, 2937.5729372651062, 2938.095929918382, 2962.8793577713463, 2978.31693490494, 2980.111375466119, 2981.4405277558253, 2983.164538975265, 2999.979630623819, 3000.698510230737, 3001.749381569392, 3007.6727774028986, 3020.054552740784, 3030.8797429920487, 3033.4483373876674, 3056.737472048936, 3064.4211125157626, 3079.50578407587, 3107.924904636402, 3118.9386439044806, 3123.8278988152533, 3136.9310692558392, 3145.125982531278, 3165.86922161498, 3166.569059549569, 3174.439182767637, 3178.328571754072, 3183.084787066189, 3183.80626269993, 3204.388963018575, 3213.0282771932884, 3242.4369719323254, 3254.0321878767063, 3257.6414606741178, 3265.971556848418, 3274.158501831982, 3274.718991836627, 3276.0141227650906, 3313.3451400938975, 3321.733912285998, 3322.4894168690944, 3323.3404983807977, 3323.8284012697472, 3337.2811881341704, 3352.521079250342, 3365.520265039167, 3370.489644698074, 3385.3076391287473, 3386.755559855125, 3391.335609969426, 3401.332423375335, 3409.3098834713455, 3485.765869341002, 3503.610756417623, 3506.626811128126, 3508.997471793742, 3512.393988499082, 3525.314211238899, 3535.247025570206, 3536.395314167291, 3539.2898681726792, 3557.9063340057805, 3590.118447795229, 3605.83711337767, 3611.3842874072975, 3621.152154110973, 3627.026009350903, 3629.4030287898618, 3641.7889792372403, 3643.385580670173, 3646.643739100058, 3677.8366268452587, 3681.54454289083, 3685.941149014057, 3692.0984235461874, 3702.735700682724, 3706.2789013251063, 3706.2821167216066, 3712.400726222819, 3715.54420079916, 3717.6908821393095, 3727.380500029429, 3752.485080580191, 3752.811816532997, 3779.603086700474, 3781.6594789750634, 3794.7525519744695, 3800.993606585004, 3809.796979196196, 3814.063938338658, 3817.726175857673, 3822.7740193539485, 3823.949486795606, 3827.8791159657712, 3836.4742608398496, 3840.4934279206636, 3854.3174199917353, 3861.872259155742, 3867.5592212460906, 3898.1912798998233, 3901.8425940548386, 3902.248465283089, 3906.8885194759996, 3908.306369735246, 3911.309514458675, 3918.7424298982955, 3924.825206963362, 3931.298692545536, 3934.9484065230813, 3948.186549648681, 3949.190587752539, 3956.1315640977245, 3967.9938606938927, 3984.3352361720686, 4013.9894652200137, 4020.8481705009904, 4041.944165924907, 4042.355142432812, 4063.679253438033, 4066.410348461029, 4071.393322170328, 4103.339888184933, 4121.967339851514, 4129.692722403185, 4146.088884968838, 4173.897934508238, 4185.1387998985665, 4196.829309448942, 4204.034678082708, 4204.865487908263, 4204.980360987751, 4206.922225763464, 4212.258018175762, 4221.578646489736, 4233.913395518153, 4237.932846061401, 4240.874094681792, 4261.346386177084, 4264.849833884944, 4312.783886156787, 4319.236045764674, 4320.704144757047, 4334.290932369375, 4339.294767744703, 4347.264828510429, 4369.551608167381, 4393.167046539978, 4403.089095920289, 4433.36356912204, 4434.690205097747, 4436.001500996271, 4440.52263726923, 4456.351626558043, 4481.257473743386, 4490.75848484775, 4503.637686345442, 4508.625436148946, 4515.79202079643, 4521.358459882532, 4522.902749575424, 4523.133369277459, 4558.176717314576, 4568.257663178006, 4591.554316635591, 4600.9060084775765, 4605.320463303799, 4620.567809908319, 4627.928105661624, 4641.018162103301, 4659.005748000525, 4680.98474252324, 4699.218692481712, 4699.805123144638, 4707.9435097201185, 4725.638027368029, 4741.128772223769, 4741.460584339115, 4756.858270516773, 4758.966199108453, 4770.6452507918575, 4793.367048990326, 4793.969726958655, 4811.405926256784, 4814.725817060113, 4817.159078878795, 4822.411927396491, 4823.052771769759, 4824.922121063508, 4841.439202009326, 4842.002171122812, 4846.722966320839, 4848.995751892005, 4896.786454040391, 4899.29237315076, 4903.561005671412, 4906.325458434969, 4922.502526695891, 4923.256616245688, 4936.6636285711065, 4937.973386641142, 4942.948806994545, 4976.597464271959, 4995.817573818202, 5009.013052610006, 5012.312270087148, 5025.985853971926, 5036.412042381215, 5043.89657676636, 5056.035951709292, 5061.746661091554, 5066.008620399257, 5075.239700798011, 5085.353983531612, 5087.457943497856, 5090.911599550256, 5093.344390957652, 5112.469903727528, 5118.931073977109, 5124.225836458379, 5124.528010406091, 5135.909264036308, 5139.541804072374, 5145.581222740825, 5161.416201367062, 5177.887295176554, 5191.753017839137, 5197.533127047322, 5205.990616167264, 5208.419111793918, 5211.842175104464, 5213.281759307766, 5233.349004529874, 5238.502888675594, 5248.9798867313975, 5305.250498656486, 5312.574641558271, 5326.101309472925, 5334.3354128897745, 5359.326262194488, 5361.355534490463, 5364.000628950957, 5364.895952258092, 5371.774845745797, 5397.857256195472, 5416.671867320536, 5430.0910230875525, 5444.707999046797, 5445.731590788877, 5449.332207334401, 5459.356886291791, 5462.828770297612, 5466.061201508089, 5484.132595142806, 5496.694454166865, 5551.144485352557, 5555.021667574206, 5565.84807756924, 5567.357879883966, 5568.677219346146, 5590.847059159078, 5591.901396847799, 5610.792716969173, 5616.043881650337, 5621.666926367723, 5625.3458961189735, 5627.7355023287155, 5628.366901119594, 5631.754578855195, 5637.7443490720225, 5647.933390806911, 5663.815948883779, 5667.546112979861, 5667.960695483956, 5687.559473807439, 5693.532267599388, 5695.682066677969, 5696.950695387426, 5706.111096499595, 5707.847318464829, 5731.330873420297, 5744.8701975328195, 5751.252835593491, 5755.601492874413, 5779.812773529028, 5792.746349405321, 5798.340396675467, 5805.415862002115, 5810.437686093488, 5811.918785453027, 5811.958456047983, 5822.063908785869, 5827.094688690997, 5832.211789978997, 5835.417794576452, 5840.045922985069, 5851.118399651945, 5854.188870617293, 5860.041180877448, 5866.437789342768, 5871.3282536054785, 5877.519439408296, 5886.7531517643665, 5888.417013746144, 5895.554879814266, 5905.324601514752, 5912.143492262626, 5912.164850785435, 5916.512902250155, 5921.921851869053, 5927.2694563359555, 5936.607586119567, 5941.5997063953, 5947.659432089085, 5983.776784317305, 5986.068125009646, 5991.576572279176, 6014.630976857877, 6037.420464402675, 6055.746044155803, 6078.357739253071, 6081.13449346409, 6081.2554102553595, 6085.319390804975, 6093.385685858235, 6095.3021477484035, 6096.61380551282, 6116.406644955803, 6120.383819942635, 6139.080370014949, 6150.249665662679, 6153.886104886127, 6160.419380316283, 6202.261647215844, 6210.092911077341, 6211.602372881666, 6215.277451626124, 6215.513041604238, 6227.907813524055, 6229.746831974759, 6231.474658802753, 6247.9885605273785, 6255.459443708206, 6278.471070928632, 6295.139554734172, 6297.074181906303, 6305.430776009505, 6307.811848168106, 6318.367675657433, 6323.654406337949, 6335.484647461306, 6346.965175406804, 6359.663415251682, 6360.279406325905, 6361.3292855394675, 6395.35375865892, 6412.716295720274, 6425.153737144341, 6434.531405184388, 6444.687315956819, 6455.533572978453, 6457.7787877398105, 6471.945255003502, 6472.364581028888, 6500.870110321908, 6528.481669639792, 6532.258727106427, 6536.2030578173, 6537.298492686985, 6554.629304639772, 6573.938302332856, 6575.846493573152, 6584.718857855163, 6632.39946957193, 6660.399058029806, 6660.455731355307, 6664.061004356704, 6691.582243985661, 6694.478721934846, 6714.398711375688, 6718.66652208767, 6719.862133073351, 6727.8223581607335, 6741.640886651523, 6746.787225938036, 6772.989323725632, 6781.132672557693, 6792.998925008371, 6794.601935279773, 6795.607073507021, 6800.970726926071, 6803.438801034469, 6805.906275697037, 6839.900443366094, 6845.252014594219, 6845.3739556178825, 6852.662068634756, 6867.230109384966, 6870.562932632681, 6899.14191232649, 6919.368543052913, 6922.977768649304, 6927.179874902291, 6931.316309807056, 6952.623150593754, 6953.40898219883, 6962.40106137242, 6970.721746536063, 6979.820374966921, 6991.2538121687, 7000.56574852737, 7019.800283912101, 7028.680552553709, 7029.074750621586, 7043.2906330010155, 7044.574412564325, 7048.103337870002, 7052.600713842981, 7063.339492272545, 7069.928844239524, 7071.241238742829, 7077.080588505008, 7080.558986225024, 7092.705451614622, 7095.017436513344, 7095.742938403185, 7095.799718397437, 7104.934653407975, 7139.25829678556, 7140.462398681419, 7141.054403380279, 7172.354733641126, 7192.553868456045, 7202.219057553128, 7202.497756569061, 7220.058977633539, 7228.2813853967045, 7230.629283348064, 7254.826420738691, 7259.820687827392, 7271.03636861798, 7274.014779166398, 7274.4992696688405, 7275.958711434763, 7278.389234972302, 7294.149341213446, 7315.175895981114, 7316.843454749934, 7329.9887358198175, 7330.573761942981, 7331.609042019863, 7338.961793450872, 7349.718120644923, 7352.023089979155, 7365.834475752473, 7372.744063653507, 7400.639319295033, 7409.791231979176, 7425.921666079403, 7427.928558627327, 7428.455876692029, 7446.951115168337, 7465.531336880545, 7472.017781720576, 7476.460880233107, 7476.949427574383, 7494.607958708713, 7496.167838985337, 7500.237777328693, 7501.09328438349, 7523.592822840382, 7524.32368638421, 7563.394854149291, 7582.978161810728, 7587.551274699655, 7588.151429204722, 7588.290050453418, 7595.383676234145, 7629.645692876062, 7630.329027018358, 7659.607182609883, 7662.4243371085695, 7668.828931796298, 7681.79338936901, 7688.760266687944, 7736.112345688908, 7741.754465003066, 7760.281187335594, 7777.0975209538265, 7793.16749954012, 7810.855218535413, 7813.951232059748, 7833.637865021858, 7841.83569570209, 7851.186251196086, 7852.273799320417, 7854.25583822717, 7862.880781548715, 7870.2407142309885, 7883.261699475954, 7896.93387345216, 7897.19476719743, 7904.552727334332, 7918.905145688367, 7951.839774333429, 7957.219371099269, 7991.4873790494175, 7994.561054863736, 8010.997418417675, 8023.835162277263, 8030.664611546321, 8037.080457612996, 8037.32158854841, 8061.002278845843, 8089.52357769173, 8108.293691660356, 8120.173602884434, 8136.8741697021715, 8138.032135791449, 8143.2372674487715, 8145.194898882336, 8145.672870599114, 8154.275666311729, 8157.1741941881455, 8209.563043018408, 8210.62653408956, 8211.193713579152, 8234.312309812163, 8239.813203600645, 8253.511850135696, 8262.076783778148, 8283.93018189286, 8305.686856743961, 8316.413197955188, 8320.791217383763, 8328.69408112381, 8331.65626134762, 8336.68780849285, 8348.513398853509, 8361.70464218991, 8368.990231228943, 8370.808179286907, 8394.375888489676, 8402.572918418151, 8402.862444356006, 8404.404654875127, 8422.464448996598, 8427.81753690834, 8442.350771251427, 8451.03057566879, 8451.710907164626, 8453.401776479397, 8467.487170689217, 8471.883970846398, 8479.492484630324, 8504.10402766984, 8504.477786028387, 8513.49935338207, 8531.002551684365, 8592.099579624708, 8597.064888695413, 8602.485173674932, 8604.149359727038, 8618.264132959779, 8618.768708282882, 8629.09442187022, 8640.931859064727, 8651.76320540424, 8656.798896860999, 8688.276085160684, 8693.946102676971, 8714.95680765514, 8740.504573115972, 8741.009874986119, 8762.431353087222, 8783.315956441647, 8803.149637776414, 8810.69784720196, 8818.29455528816, 8825.00549355548, 8827.53056945268, 8838.26928182337, 8839.295140846905, 8840.9139461107, 8842.55173853872, 8861.450407739325, 8867.38278167438, 8869.348374567813, 8884.65548820801, 8887.010250883022, 8889.278924031627, 8894.207120199742, 8895.763026878041, 8902.07754841256, 8905.236898517966, 8930.476165707876, 8962.750351042232, 8969.128345386667, 8971.886255353844, 8974.614108570517, 8996.377776317528, 8999.538897354527, 9035.471140799516, 9043.312777905034, 9046.169018311446, 9056.756104430766, 9060.133088712271, 9076.992091005275, 9084.067160006389, 9088.99566516186, 9095.190587456313, 9097.088112594422, 9101.7232889758, 9122.457223509702, 9126.769230213293, 9163.025064896541, 9164.923278844473, 9166.963948163379, 9187.681634722054, 9228.221549663074, 9271.032938683247, 9272.723102121681, 9272.967601120228, 9279.337879634362, 9282.634670897523, 9300.12127180353, 9300.663395302625, 9312.581684365427, 9318.407554236499, 9320.967971748987, 9337.964496614037, 9344.982164209092, 9350.129655226681, 9372.342009545264, 9376.937639325564, 9384.841196959764, 9395.02994148824, 9409.427971396737, 9412.505213365344, 9415.921242321354, 9424.620839582285, 9439.712490129958, 9466.55969553468, 9470.89630385514, 9483.283606261746, 9486.97987441936, 9492.584949112366, 9503.167624655664, 9506.697619135863, 9512.48305141804, 9515.48484667367, 9567.731713553449, 9570.792919062269, 9590.196370583884, 9593.738153931286, 9603.857822847316, 9615.874099868599, 9619.315052770537, 9621.054147228944, 9621.613190575994, 9625.381879886125, 9625.50983088312, 9633.586837479876, 9638.820522222724, 9648.194067541626, 9648.244271073914, 9648.862197940221, 9660.000428619824, 9667.108107393507, 9692.696495504004, 9693.444811601406, 9701.088948960502, 9706.718051620679, 9716.336717785316, 9727.610432891532, 9729.86685556316, 9745.874392437392, 9748.458473926705, 9750.037890431162, 9751.06885471076, 9754.11276605105, 9762.970414024749, 9764.106440528736, 9767.467682826897, 9784.139318905716, 9795.152045775867, 9804.791150924219, 9805.365998941681, 9815.410878606066, 9817.774396543238, 9822.454887830654, 9831.490754623954, 9838.392032644679, 9849.46235246184, 9853.739094458451, 9861.256027668749, 9868.73830495746, 9870.462575621026, 9880.335560677726, 9885.67581139918, 9887.799232016567, 9914.475967136596, 9923.589526247291, 9928.46541484714, 9937.34216087161, 9941.12315637273, 9954.264233585616, 9985.707730535869, 9992.069034217615, 9993.910649517533]\n",
      "[7080.091559247782, 9519.7147258515, 3084.7394865215106, 8971.678234957808, 500.67256920370727, 2909.671409502249, 2059.071877430302, 2947.4867524942083, 8686.345990588916, 957.2278745544438, 9112.933560934893, 7399.4417270246995, 5494.684087613912, 1100.7766512463247, 6561.249903146069, 1377.6439325403012, 6474.6847300771315, 9763.9411743006, 4910.862671234159, 3267.663789114679, 925.6916817576744, 6896.000110584773, 9611.697647989668, 8311.62139223686, 8312.199772408705, 219.9988141545506, 7980.675358968813, 2199.3582355965546, 1084.3793726799433, 6333.928444819915, 2911.9869398519027, 1108.6086021577235, 2053.856428626748, 7904.335377427442, 5983.183252904702, 9632.227454558613, 825.1787743002881, 9659.74538678119, 9108.095295359059, 8301.22823959256, 5501.861706664803, 5338.250157687916, 8685.049239961958, 7802.238095782559, 3478.2715364874925, 9453.873195151065, 8828.403587338466, 5091.27034469941, 7429.042797922688, 9832.738029757655, 3956.4399508071847, 5651.772613693636, 1574.8353730572308, 6462.447584790236, 9579.17939056129, 8145.0525646573105, 3401.8469410975094, 6692.0905802801635, 9631.948950798305, 8252.227899251893, 5091.075653235309, 9975.628601474815, 7385.2333610155665, 9441.45782423156, 4827.520795117446, 4844.395795734317, 8689.49922693255, 9154.413556157599, 970.8901153200411, 1154.4153860809147, 1246.3103128287034, 6559.577691828818, 8844.910499399904, 4948.278011864162, 8425.729364815685, 5146.993601600703, 7245.077692280428, 7614.626506343601, 8700.81778942483, 635.271148666211, 6965.369094063659, 6679.758735730381, 3493.9689106439064, 2551.0341600231077, 8130.612168860603, 4184.361478395354, 567.388929483752, 9609.385853389545, 9765.313296866203, 1500.6317198229967, 4360.991768653275, 1758.5286852763559, 3285.988726285173, 9419.037990361556, 8054.219262645764, 3132.1328249536505, 1828.9692181454686, 8961.290705386193, 508.22444714972215, 7167.393499593147, 7585.1989305600455, 2046.2639913620085, 3177.7574945078204, 1204.020923209105, 1798.6027209974177, 9763.120971740449, 2110.8955721606926, 1825.702167584552, 2986.3705044367493, 5503.441465170844, 7693.10476916927, 7542.756472518114, 4154.75401028513, 3724.2443881191166, 1594.383398588507, 9543.021518939364, 2418.964496777404, 1283.0071535435272, 5634.564724649187, 5512.434207189124, 2688.3262044148983, 9567.697580183749, 1420.519860169407, 2981.8658681306474, 6721.411477574564, 7419.809584942959, 2138.851100174618, 989.4723019035579, 3537.9295072559057, 6324.189165529603, 110.41118236850944, 351.50335986853906, 4536.946741080037, 2692.0151606695686, 7073.201546060879, 6606.2314368381285, 6770.507740096747, 872.3536478534777, 3990.0463529940866, 3636.142397476223, 4249.285721714569, 3469.9670277503014, 5579.62956916673, 9269.786597360067, 2397.9348881890683, 8806.322187651802, 7324.673420755623, 2572.7693980041, 6789.911924762214, 8888.919194574168, 2226.135363175216, 4040.4619413588625, 3181.5967107648703, 9459.235925245812, 4582.119227418199, 3165.960743173335, 7458.526053794844, 8535.135579796673, 3779.4825985971793, 5822.057378416537, 7785.209342587105, 9060.14640164646, 9268.607147777777, 2279.611838918112, 8150.855564468893, 8820.301034370015, 418.45621975696525, 5536.704788176243, 7210.536485403223, 1525.8256909995205, 9608.037738571706, 1972.6270928528588, 4110.100583318934, 1716.9513170692608, 5973.327213789435, 676.7569608665369, 9469.78497217733, 445.15634211225176, 3319.4811266151446, 1651.7622470734727, 1336.7024796344417, 5363.874914675206, 192.00587465367903, 5178.248901462535, 9086.930906203352, 2471.749113105602, 2972.9478755440064, 5030.208824236661, 1060.7741004919324, 5050.767812545712, 5975.257320446389, 266.06311613820986, 2877.7831078453632, 814.5683412672045, 6993.274225376196, 639.316257436211, 4883.183040983629, 6671.646903127364, 9285.120830470205, 92.83049833922475, 8965.454402327336, 6617.7252864314905, 8539.23165870581, 2998.3262607539427, 7354.481767982913, 8315.546913393227, 6282.220827082255, 7428.726065782071, 9289.802418378567, 7284.924123736753, 881.3433849571039, 3774.3205863712483, 515.4745919691428, 1420.153955806882, 7387.4104308191745, 9521.626213540429, 9117.683881477058, 3101.399293029339, 6757.288666971141, 2696.816431689967, 7301.290261229145, 7864.043231403445, 4433.583058638323, 5497.799862319394, 5630.310975601207, 2125.5496439456047, 982.0737762873532, 1843.9171486922035, 2547.54362547323, 136.09041150257406, 1908.870990260697, 4736.28265990125, 177.59250726084642, 8085.338020501276, 3928.3349119658283, 7409.719627573446, 1805.3933107456455, 9874.793294762865, 223.0125442259734, 9743.384369673951, 9921.898217237238, 7205.868251796541, 53.31334254380815, 6962.718970752727, 8166.4328093462755, 9807.907660376917, 6685.745697156876, 6312.394475671641, 6011.005802189935, 133.6856563177302, 2639.4084742821824, 3541.9759661012886, 3595.0536858871906, 7212.249299009986, 7458.7154785102375, 6352.1222658636225, 9289.730919282283, 7421.444144344241, 4507.012371134793, 7119.569020304527, 5643.948287180003, 6073.411317263942, 5902.466014728908, 7069.589675160247, 1276.1577686478088, 524.9057702919968, 9551.831830201001, 1523.0843027789142, 1896.5265790671137, 7019.646353117557, 6613.243338539243, 1826.6126770563517, 1230.8421159876814, 9431.334524887629, 9971.871385389637, 7271.601497849411, 1056.5668724174593, 5442.963258544158, 1316.0498776667218, 160.98870987683034, 1499.2582628807738, 1425.355840206034, 8968.866501837196, 9125.384267473537, 8494.428948401699, 5050.285482167103, 9366.471317590365, 3971.308026454955, 1025.4979900780725, 5760.999848388439, 9044.485803718995, 1651.7760671587523, 6599.1581281312065, 2183.0426164621463, 3541.275148685623, 4508.378523962897, 5897.297959366956, 6276.334357567839, 7968.061039206692, 7068.522314533832, 9568.236581264946, 2995.375956897788, 8549.097736096348, 8257.509905953599, 77.3340241671483, 4366.360156057971, 6089.944295505142, 9636.339810868245, 9781.046434770551, 1215.599607426271, 9014.64152654603, 4984.238346440148, 3239.142665146062, 6626.61459938886, 8429.972500686206, 7290.316260519859, 8249.65874288453, 7630.9334102182265, 6445.509042331047, 2387.0870454905266, 3138.593669142322, 2370.9173215551873, 1483.2027579178841, 4848.14548048047, 1867.1509117747541, 7180.458961497, 6969.047833356897, 5799.828696383715, 8460.588801245613, 7325.830413351489, 2428.9929966950394, 2222.1777796431843, 6974.6313010477015, 4993.108478558463, 3883.9933235691783, 3284.581912286418, 8374.213030370922, 6654.218794459548, 3165.394249170793, 9099.326353378588, 1722.7606629368786, 3932.1502498899995, 6209.789815439713, 4049.4392308883475, 317.94162285527784, 7275.814651409533, 5409.044783007516, 7012.803809535625, 7310.805187862285, 7533.4855751914765, 6318.351707887008, 8049.357028723376, 1039.390699118088, 2969.960068999905, 1523.9762666804313, 8795.907182308734, 1455.8434780960638, 3843.372613135895, 3239.9765397840483, 1817.0090855142084, 2609.578091477186, 7777.302942128602, 9760.35265223967, 2750.7334203352198, 6417.475573030893, 3154.1658556241623, 6223.126196863783, 738.492607371446, 9820.401629979111, 2925.676615178994, 1491.8176197182265, 6444.621448527232, 6997.338286718202, 6459.5133769445965, 8223.257629837504, 6144.18381960141, 6864.926278849836, 7879.7808516188015, 3508.955839411412, 862.0704660291112, 8016.986900246743, 5304.758515071731, 1295.508422195707, 4679.898528010141, 4579.156136336265, 6656.54747364471, 9414.691559421084, 2519.372997162066, 1404.4364012467158, 7065.680064518436, 5236.008020501267, 5420.154165454814, 1774.679205372699, 1999.5125041931817, 3414.0546724920996, 1377.97351165466, 6046.085413663343, 8497.810856247901, 635.9526506197599, 1571.1587495142642, 6563.844499262697, 2100.5255263744402, 9392.458603871226, 9686.847542939138, 3505.722413171025, 88.41436731608977, 8388.69506140819, 3342.4722110737835, 4937.957849574474, 2125.2208134162065, 1695.4606919229643, 9102.690638253029, 5993.497377660031, 3879.3652584702286, 7984.734525866718, 3414.64437568374, 6744.991011247175, 6656.951910105171, 6752.538108611335, 9829.22519535449, 7938.003480869059, 5257.329634109197, 7108.192339245404, 9237.29608034147, 2524.732900858392, 3076.3245854167344, 5534.637816542224, 7758.870352326392, 4621.509402917079, 8394.514433297594, 2221.050322175462, 8210.88998603528, 1691.4595260846709, 5440.565434528942, 5988.292736904355, 4265.6052389704955, 115.32705949271582, 7344.050366140909, 354.2047721045405, 5277.564126733471, 1318.3010370743064, 4749.7393924686185, 389.9715872017895, 6483.482329453068, 3666.6405985161623, 2325.246970138436, 791.7687508561855, 9654.016432260345, 565.5928193970173, 8676.297348059714, 9842.937389700415, 1021.6456352520443, 9531.23179623385, 6492.891063883396, 7911.350363948773, 1913.7118486460158, 3707.634479545603, 138.1660610390245, 5427.873470736839, 9750.896671611517, 9004.706834993702, 1726.092236669704, 8529.839075604028, 7635.225895085112, 6836.631923907153, 29.116158817555913, 3896.802096197468, 6627.217014999865, 4538.721648650054, 896.8783891895205, 5784.038623873598, 1340.258352517809, 8993.243505957054, 167.3075548328784, 4687.331976285412, 9785.278032319236, 914.4829872352944, 2964.2809589539374, 6769.4293342022, 6579.0099613769535, 4259.360237874139, 9071.902896833928, 4116.032950351867, 8244.670010138658, 5832.894667818763, 4267.06546674565, 3958.484345649712, 2355.715486464258, 8879.238797186486, 2386.4967987716213, 9227.660756398296, 511.1627841180577, 2925.799681084873, 7512.701908349603, 2158.1119219924726, 7920.5162699486755, 35.210807985606166, 1686.957956978199, 9346.0688870564, 1636.7653733690167, 4983.081681247595, 3610.550528404394, 3926.7059885337508, 2956.753867055506, 6872.42183968469, 2172.011267471642, 6604.128281998307, 7220.308953433837, 7649.150579166207, 2701.3037034590893, 7895.127834093363, 3067.882614983887, 4245.600188889265, 2786.506751453026, 3087.855289604164, 8710.74198924473, 5642.373403253893, 5552.700727398805, 1217.5287137024936, 1248.8392098753786, 6352.265797730983, 3488.1682319326824, 1340.639309981969, 8016.7273364551775, 2672.5452710721565, 2892.559865931936, 5502.9365792174385, 3301.361596384662, 5976.9190012812305, 7622.854776550066, 978.2878556289797, 4447.722266468846, 1085.5634494355604, 2960.2413283036444, 8548.286017376467, 215.80779286449635, 4866.774173942813, 4920.108359782509, 8839.537704636721, 6107.847094531401, 564.5606533515912, 3236.1604912234034, 9528.428326120955, 6902.497759392232, 8669.855287793573, 2977.0744038009543, 7657.660726963782, 6847.238446966632, 7657.633458371694, 907.8216030974751, 8766.479348463392, 7256.263914616732, 239.9751150732632, 5553.011542641465, 9773.438208664295, 8879.983595434973, 5063.089736560806, 4319.789992150355, 4233.38726879163, 917.3538953678461, 741.70810584536, 7819.784233381089, 4059.74812075342, 2232.0848947275385, 5366.046219827132, 3706.636644628761, 44.21311131475258, 2783.6327077854608, 5858.156844436744, 4014.6688641561923, 7983.85315102972, 1022.6321356929091, 4827.4476508212365, 628.7131020003256, 5893.286686871884, 2074.105331360141, 3387.412183285382, 342.98160623242757, 7307.378712527012, 2061.2882301702152, 4770.05757637043, 5424.9567784971005, 6734.028425834796, 3783.3489260472197, 4686.301385172887, 2645.64428843902, 3124.93172200878, 2675.96770632013, 5930.471893982506, 6084.718682629001, 7833.307930483995, 750.5205366146628, 5319.048802300522, 6832.907481614408, 4093.0678578917655, 1882.6980748659382, 4241.951860985885, 8347.78643258606, 3319.35571804195, 1143.1365724022835, 3483.412386310328, 9525.806968960213, 1488.168026069966, 7261.978767001556, 6584.0013082997775, 7621.873818401591, 3998.9880130780443, 8294.702017891155, 5041.115199651568, 8258.139008080076, 9291.458965350537, 2184.1056590059616, 1090.304858177018, 5255.712142948175, 4974.680395763254, 9844.660308657909, 6554.1362851315625, 8482.306806821252, 2660.507286656265, 2158.996183397368, 2006.5922308022577, 273.82072715470775, 9849.12583414209, 7211.366748202819, 1929.5702014273497, 6423.147801219775, 5208.692982779324, 5790.4951814689775, 3642.226923698085, 609.7045181484883, 4460.558364651126, 3429.7887180886146, 9096.54566899872, 2296.3712783472565, 3839.569121101648, 7113.833189414062, 3390.5156678751337, 2769.2318356138157, 5138.403052762198, 4910.213811984475, 9904.48852292488, 8917.615076864391, 4405.070287871412, 7673.389329615105, 7627.584149391866, 2281.306031829833, 3121.370331642059, 8228.660461115873, 3569.972202728844, 9573.691066295421, 4229.5941375071625, 428.65310706773244, 7229.063244063352, 9006.948387269345, 5832.07944075024, 736.7486531189238, 9226.29541798186, 8627.29789444049, 7096.99459733316, 5318.975128323421, 5485.848680005045, 3389.002265599459, 5655.1518192375515, 1865.5091944514857, 2756.4528842469717, 8966.126709164506, 3614.163324024142, 952.8054992780111, 4262.938215300082, 996.8673444589693, 6109.313835503493, 9052.00237019078, 6344.105039828838, 9656.104134859033, 8351.268648417015, 3073.132568790542, 6846.377727627773, 5829.71903516408, 4269.781716046961, 7188.053681667421, 1397.087737937156, 8945.418674340843, 2233.6697758472246, 1640.9568561672604, 9441.187651100623, 7762.143968249065, 2329.3519823802844, 6802.293338295388, 7011.099429801518, 3882.1770119919997, 463.2739701949673, 2868.1256949571275, 582.535472909188, 9469.457463946837, 9926.622326187886, 6382.409521792037, 331.8128381385621, 6183.508271408769, 2026.561732460751, 3002.4567614576513, 6663.103537885469, 4699.143663229597, 1567.8742977235627, 2773.0758930263146, 3188.6285931559146, 2719.2701436946386, 3978.363330303314, 4452.91415918139, 6860.9523525129725, 6825.772248365186, 4066.265417974766, 8070.659569760206, 4962.969319071354, 7028.04013787136, 4449.364901143671, 1092.99477396263, 2457.825762488386, 7361.749617697901, 2563.565723436437, 8419.86928477123, 3995.7020157483835, 6025.645812288161, 1494.877573582185, 1107.2946588264288, 9192.55502410664, 7566.086155165781, 7466.386380374679, 8972.390873374461, 3603.3468580224303, 621.9853806800768, 1562.1709849457122, 2407.561565928151, 5815.401950935696, 8892.011202143234, 4970.1261013258045, 8837.902509510743, 2056.0541922903253, 8546.062638518559, 1054.5718136272076, 4065.819058583643, 7584.004122540154, 5407.227274960826, 5923.880993599085, 7762.148931124353, 4736.28765170586, 4372.612299588014, 6654.687401320871, 1703.3914770012038, 580.1927187315337, 8461.033596965444, 9970.404423975324, 8563.640741265193, 9467.892172124839, 6240.449932352574, 6688.2487386371395, 7008.987018071241, 4885.521816888342, 5250.702029369149, 2254.5870734296213, 3971.8001859236383, 8192.063752483326, 8245.813100111809, 133.160998395383, 9575.053685295328, 2849.8927513644503, 1171.571297751548, 3153.8104695737547, 7829.175534139614, 8385.65601719426, 7193.564292042023, 1371.5647361563122, 3964.1440710709585, 5459.464005682623, 2557.9182847682446, 9104.258878595221, 7028.417971605461, 9715.517916935427, 8741.896088777172, 9816.395202872003, 397.14105760754734, 51.74691629466932, 5996.999763253734, 5997.18023001873, 7198.546880157788, 4577.86590808953, 3693.2148288932954, 791.6300026117751, 2001.4961073802294, 6037.867473433472, 9217.498751317758, 317.51864089327177, 7015.473904310508, 7135.69800070204, 6792.8150810939505, 5357.672584466707, 688.4808617357363, 8560.892848344547, 6094.01712380347, 4519.4890301203295, 5668.732373275402, 5357.434864330708, 6971.82071986176, 1189.7941827776126, 8631.450365639877, 1144.1620835249223, 354.16408898678253, 4629.064901021878, 9577.849470334842, 8208.782609077209, 9215.04979524974, 1661.171555668517, 6641.486079509198, 4922.570361680403, 4081.310606219095, 5734.320010532513, 5361.637730545964, 2213.350031466712, 246.57653605155926, 1268.805373328461, 8743.244802696583, 9316.249612129335, 4916.951639034046, 503.4935903099802, 3512.6237401394965, 4376.984898714744, 9844.232736914922, 6258.183771537278, 4695.205221741145, 2128.7547744543376, 5325.685442034369, 8765.060403545138, 366.0576630444945, 1389.1383250698418, 755.1184285497081, 2086.272438095944, 1554.3518567289427, 499.21092564475964, 7890.820138129022, 3241.605230200395, 7017.9683253021085, 6997.149447202182, 7497.1469980206375, 3875.5738832728794, 8246.325136030071, 7712.533511151818, 1359.8414476642374, 7066.62638439694, 9708.62876662509, 4525.646753244743, 7724.325784164023, 1695.833602579977, 8588.177687379597, 1869.8481056881644, 3864.735475976241, 4778.754533779601, 7683.064660877964, 9822.147433621967, 9721.24469255904, 3275.859328729618, 2737.0150209942867, 3403.8369551264514, 1523.7418569129213, 3558.4036966594877, 1162.7728733339816, 2902.598659793876, 7270.364793381144, 3127.6536333103923, 3128.5958239173397, 1521.1621387137031, 8521.921986054833, 7778.658888863059, 1974.5913216951726, 5652.487641982292, 4037.7985163885887, 7051.306901216313, 8628.261499356175, 8311.78994031088, 2551.1677193190117, 4297.060401643138, 2837.5026880811747, 3272.8208260169313, 9494.746696656182, 4493.848311160155, 3684.3286954391087, 8651.310562070374, 6364.0695117028745, 7292.515843223412, 1414.5877161946319, 5486.61459049096, 4190.410385470994, 7465.032814400767, 4880.474618054147, 5291.919206154587, 1023.7875753312753, 226.12059469533708, 9860.265170458408, 3361.4362806329846, 3616.0501896680707, 6614.51415725863, 6340.1762222329935, 1167.2356669941607, 4535.382772298096, 4756.585987588053, 7493.946607746456, 309.79985117381534, 9734.93295251787, 3325.243383580847, 1796.6721904346161, 7144.510198865002, 2991.7270187638824, 8483.937532266209, 4017.6533508502766, 1550.565248329061, 2898.8709324974493, 4788.573129987218, 2245.384903073636, 3473.214167161688, 7799.396976575062, 9444.958959668798, 8614.073576969853, 4687.696182670713, 3525.3900102240054, 5735.831832063412, 8161.696924588314, 165.5359572698778, 2094.9278617275468, 4208.559021022155, 3208.017335724954, 9216.759763872382, 5586.371474257652, 9571.561242389482, 5096.795387700593, 9175.190719760798, 1896.1088115265622, 3349.6710062606207, 3241.3222870182112, 2959.069909128674, 3743.0305302993193, 6143.25473153719, 7650.429685434047, 4896.896119650158, 1898.9681229744326, 4287.623090348561, 7462.5663591910625, 3520.775605781815, 8222.503450964092, 2054.7423163318513, 1769.4953956258107, 419.4988133827271, 3107.043308294487, 689.0363512519426, 6534.899843533857, 8825.177647606599, 2406.6146598174896, 9606.656550851449, 9809.749860370319, 5172.636335324273, 9411.419353847956, 5429.757653238045, 8358.704545517288, 8447.871759084592, 181.02047119113786, 4728.12404078395, 9765.85074532667, 5970.739259761871, 3364.712942092889, 5076.430879835604, 4528.02083369267, 8756.440822671893, 6576.311453569829, 9498.867747041058, 8988.241364290709, 8123.8838806402355, 4157.482650306964, 2264.7230072971224, 1013.4334058905292, 1881.6668452472873, 2344.101010258536, 5155.427007547594, 5090.639404900905, 1543.080706898513, 1886.5221147620036, 6897.849993961, 2726.175268483505, 5079.1260392642835, 1556.9212403482359, 3428.476763374834, 3680.9177432365236, 3168.1717592993286, 6698.71938646804, 5237.871983940045, 3913.7228668473335, 5976.0459083499, 8979.62439613622, 7593.539870523229, 3772.91103278818, 8947.44110807422, 7978.774490317198, 377.5876027578562, 6873.743206229097]\n",
      "[29.116158817555913, 35.210807985606166, 44.21311131475258, 51.74691629466932, 53.31334254380815, 77.3340241671483, 88.41436731608977, 92.83049833922475, 110.41118236850944, 115.32705949271582, 133.160998395383, 133.6856563177302, 136.09041150257406, 138.1660610390245, 160.98870987683034, 165.5359572698778, 167.3075548328784, 177.59250726084642, 181.02047119113786, 192.00587465367903, 215.80779286449635, 219.9988141545506, 223.0125442259734, 226.12059469533708, 239.9751150732632, 246.57653605155926, 266.06311613820986, 273.82072715470775, 309.79985117381534, 317.51864089327177, 317.94162285527784, 331.8128381385621, 342.98160623242757, 351.50335986853906, 354.16408898678253, 354.2047721045405, 366.0576630444945, 377.5876027578562, 389.9715872017895, 397.14105760754734, 418.45621975696525, 419.4988133827271, 428.65310706773244, 445.15634211225176, 463.2739701949673, 499.21092564475964, 500.67256920370727, 503.4935903099802, 508.22444714972215, 511.1627841180577, 515.4745919691428, 524.9057702919968, 564.5606533515912, 565.5928193970173, 567.388929483752, 580.1927187315337, 582.535472909188, 609.7045181484883, 621.9853806800768, 628.7131020003256, 635.271148666211, 635.9526506197599, 639.316257436211, 676.7569608665369, 688.4808617357363, 689.0363512519426, 736.7486531189238, 738.492607371446, 741.70810584536, 750.5205366146628, 755.1184285497081, 791.6300026117751, 791.7687508561855, 814.5683412672045, 825.1787743002881, 862.0704660291112, 872.3536478534777, 881.3433849571039, 896.8783891895205, 907.8216030974751, 914.4829872352944, 917.3538953678461, 925.6916817576744, 952.8054992780111, 957.2278745544438, 970.8901153200411, 978.2878556289797, 982.0737762873532, 989.4723019035579, 996.8673444589693, 1013.4334058905292, 1021.6456352520443, 1022.6321356929091, 1023.7875753312753, 1025.4979900780725, 1039.390699118088, 1054.5718136272076, 1056.5668724174593, 1060.7741004919324, 1084.3793726799433, 1085.5634494355604, 1090.304858177018, 1092.99477396263, 1100.7766512463247, 1107.2946588264288, 1108.6086021577235, 1143.1365724022835, 1144.1620835249223, 1154.4153860809147, 1162.7728733339816, 1167.2356669941607, 1171.571297751548, 1189.7941827776126, 1204.020923209105, 1215.599607426271, 1217.5287137024936, 1230.8421159876814, 1246.3103128287034, 1248.8392098753786, 1268.805373328461, 1276.1577686478088, 1283.0071535435272, 1295.508422195707, 1316.0498776667218, 1318.3010370743064, 1336.7024796344417, 1340.258352517809, 1340.639309981969, 1359.8414476642374, 1371.5647361563122, 1377.6439325403012, 1377.97351165466, 1389.1383250698418, 1397.087737937156, 1404.4364012467158, 1414.5877161946319, 1420.153955806882, 1420.519860169407, 1425.355840206034, 1455.8434780960638, 1483.2027579178841, 1488.168026069966, 1491.8176197182265, 1494.877573582185, 1499.2582628807738, 1500.6317198229967, 1521.1621387137031, 1523.0843027789142, 1523.7418569129213, 1523.9762666804313, 1525.8256909995205, 1543.080706898513, 1550.565248329061, 1554.3518567289427, 1556.9212403482359, 1562.1709849457122, 1567.8742977235627, 1571.1587495142642, 1574.8353730572308, 1594.383398588507, 1636.7653733690167, 1640.9568561672604, 1651.7622470734727, 1651.7760671587523, 1661.171555668517, 1686.957956978199, 1691.4595260846709, 1695.4606919229643, 1695.833602579977, 1703.3914770012038, 1716.9513170692608, 1722.7606629368786, 1726.092236669704, 1758.5286852763559, 1769.4953956258107, 1774.679205372699, 1796.6721904346161, 1798.6027209974177, 1805.3933107456455, 1817.0090855142084, 1825.702167584552, 1826.6126770563517, 1828.9692181454686, 1843.9171486922035, 1865.5091944514857, 1867.1509117747541, 1869.8481056881644, 1881.6668452472873, 1882.6980748659382, 1886.5221147620036, 1896.1088115265622, 1896.5265790671137, 1898.9681229744326, 1908.870990260697, 1913.7118486460158, 1929.5702014273497, 1972.6270928528588, 1974.5913216951726, 1999.5125041931817, 2001.4961073802294, 2006.5922308022577, 2026.561732460751, 2046.2639913620085, 2053.856428626748, 2054.7423163318513, 2056.0541922903253, 2059.071877430302, 2061.2882301702152, 2074.105331360141, 2086.272438095944, 2094.9278617275468, 2100.5255263744402, 2110.8955721606926, 2125.2208134162065, 2125.5496439456047, 2128.7547744543376, 2138.851100174618, 2158.1119219924726, 2158.996183397368, 2172.011267471642, 2183.0426164621463, 2184.1056590059616, 2199.3582355965546, 2213.350031466712, 2221.050322175462, 2222.1777796431843, 2226.135363175216, 2232.0848947275385, 2233.6697758472246, 2245.384903073636, 2254.5870734296213, 2264.7230072971224, 2279.611838918112, 2281.306031829833, 2296.3712783472565, 2325.246970138436, 2329.3519823802844, 2344.101010258536, 2355.715486464258, 2370.9173215551873, 2386.4967987716213, 2387.0870454905266, 2397.9348881890683, 2406.6146598174896, 2407.561565928151, 2418.964496777404, 2428.9929966950394, 2457.825762488386, 2471.749113105602, 2519.372997162066, 2524.732900858392, 2547.54362547323, 2551.0341600231077, 2551.1677193190117, 2557.9182847682446, 2563.565723436437, 2572.7693980041, 2609.578091477186, 2639.4084742821824, 2645.64428843902, 2660.507286656265, 2672.5452710721565, 2675.96770632013, 2688.3262044148983, 2692.0151606695686, 2696.816431689967, 2701.3037034590893, 2719.2701436946386, 2726.175268483505, 2737.0150209942867, 2750.7334203352198, 2756.4528842469717, 2769.2318356138157, 2773.0758930263146, 2783.6327077854608, 2786.506751453026, 2837.5026880811747, 2849.8927513644503, 2868.1256949571275, 2877.7831078453632, 2892.559865931936, 2898.8709324974493, 2902.598659793876, 2909.671409502249, 2911.9869398519027, 2925.676615178994, 2925.799681084873, 2947.4867524942083, 2956.753867055506, 2959.069909128674, 2960.2413283036444, 2964.2809589539374, 2969.960068999905, 2972.9478755440064, 2977.0744038009543, 2981.8658681306474, 2986.3705044367493, 2991.7270187638824, 2995.375956897788, 2998.3262607539427, 3002.4567614576513, 3067.882614983887, 3073.132568790542, 3076.3245854167344, 3084.7394865215106, 3087.855289604164, 3101.399293029339, 3107.043308294487, 3121.370331642059, 3124.93172200878, 3127.6536333103923, 3128.5958239173397, 3132.1328249536505, 3138.593669142322, 3153.8104695737547, 3154.1658556241623, 3165.394249170793, 3165.960743173335, 3168.1717592993286, 3177.7574945078204, 3181.5967107648703, 3188.6285931559146, 3208.017335724954, 3236.1604912234034, 3239.142665146062, 3239.9765397840483, 3241.3222870182112, 3241.605230200395, 3267.663789114679, 3272.8208260169313, 3275.859328729618, 3284.581912286418, 3285.988726285173, 3301.361596384662, 3319.35571804195, 3319.4811266151446, 3325.243383580847, 3342.4722110737835, 3349.6710062606207, 3361.4362806329846, 3364.712942092889, 3387.412183285382, 3389.002265599459, 3390.5156678751337, 3401.8469410975094, 3403.8369551264514, 3414.0546724920996, 3414.64437568374, 3428.476763374834, 3429.7887180886146, 3469.9670277503014, 3473.214167161688, 3478.2715364874925, 3483.412386310328, 3488.1682319326824, 3493.9689106439064, 3505.722413171025, 3508.955839411412, 3512.6237401394965, 3520.775605781815, 3525.3900102240054, 3537.9295072559057, 3541.275148685623, 3541.9759661012886, 3558.4036966594877, 3569.972202728844, 3595.0536858871906, 3603.3468580224303, 3610.550528404394, 3614.163324024142, 3616.0501896680707, 3636.142397476223, 3642.226923698085, 3666.6405985161623, 3680.9177432365236, 3684.3286954391087, 3693.2148288932954, 3706.636644628761, 3707.634479545603, 3724.2443881191166, 3743.0305302993193, 3772.91103278818, 3774.3205863712483, 3779.4825985971793, 3783.3489260472197, 3839.569121101648, 3843.372613135895, 3864.735475976241, 3875.5738832728794, 3879.3652584702286, 3882.1770119919997, 3883.9933235691783, 3896.802096197468, 3913.7228668473335, 3926.7059885337508, 3928.3349119658283, 3932.1502498899995, 3956.4399508071847, 3958.484345649712, 3964.1440710709585, 3971.308026454955, 3971.8001859236383, 3978.363330303314, 3990.0463529940866, 3995.7020157483835, 3998.9880130780443, 4014.6688641561923, 4017.6533508502766, 4037.7985163885887, 4040.4619413588625, 4049.4392308883475, 4059.74812075342, 4065.819058583643, 4066.265417974766, 4081.310606219095, 4093.0678578917655, 4110.100583318934, 4116.032950351867, 4154.75401028513, 4157.482650306964, 4184.361478395354, 4190.410385470994, 4208.559021022155, 4229.5941375071625, 4233.38726879163, 4241.951860985885, 4245.600188889265, 4249.285721714569, 4259.360237874139, 4262.938215300082, 4265.6052389704955, 4267.06546674565, 4269.781716046961, 4287.623090348561, 4297.060401643138, 4319.789992150355, 4360.991768653275, 4366.360156057971, 4372.612299588014, 4376.984898714744, 4405.070287871412, 4433.583058638323, 4447.722266468846, 4449.364901143671, 4452.91415918139, 4460.558364651126, 4493.848311160155, 4507.012371134793, 4508.378523962897, 4519.4890301203295, 4525.646753244743, 4528.02083369267, 4535.382772298096, 4536.946741080037, 4538.721648650054, 4577.86590808953, 4579.156136336265, 4582.119227418199, 4621.509402917079, 4629.064901021878, 4679.898528010141, 4686.301385172887, 4687.331976285412, 4687.696182670713, 4695.205221741145, 4699.143663229597, 4728.12404078395, 4736.28265990125, 4736.28765170586, 4749.7393924686185, 4756.585987588053, 4770.05757637043, 4778.754533779601, 4788.573129987218, 4827.4476508212365, 4827.520795117446, 4844.395795734317, 4848.14548048047, 4866.774173942813, 4880.474618054147, 4883.183040983629, 4885.521816888342, 4896.896119650158, 4910.213811984475, 4910.862671234159, 4916.951639034046, 4920.108359782509, 4922.570361680403, 4937.957849574474, 4948.278011864162, 4962.969319071354, 4970.1261013258045, 4974.680395763254, 4983.081681247595, 4984.238346440148, 4993.108478558463, 5030.208824236661, 5041.115199651568, 5050.285482167103, 5050.767812545712, 5063.089736560806, 5076.430879835604, 5079.1260392642835, 5090.639404900905, 5091.075653235309, 5091.27034469941, 5096.795387700593, 5138.403052762198, 5146.993601600703, 5155.427007547594, 5172.636335324273, 5178.248901462535, 5208.692982779324, 5236.008020501267, 5237.871983940045, 5250.702029369149, 5255.712142948175, 5257.329634109197, 5277.564126733471, 5291.919206154587, 5304.758515071731, 5318.975128323421, 5319.048802300522, 5325.685442034369, 5338.250157687916, 5357.434864330708, 5357.672584466707, 5361.637730545964, 5363.874914675206, 5366.046219827132, 5407.227274960826, 5409.044783007516, 5420.154165454814, 5424.9567784971005, 5427.873470736839, 5429.757653238045, 5440.565434528942, 5442.963258544158, 5459.464005682623, 5485.848680005045, 5486.61459049096, 5494.684087613912, 5497.799862319394, 5501.861706664803, 5502.9365792174385, 5503.441465170844, 5512.434207189124, 5534.637816542224, 5536.704788176243, 5552.700727398805, 5553.011542641465, 5579.62956916673, 5586.371474257652, 5630.310975601207, 5634.564724649187, 5642.373403253893, 5643.948287180003, 5651.772613693636, 5652.487641982292, 5655.1518192375515, 5668.732373275402, 5734.320010532513, 5735.831832063412, 5760.999848388439, 5784.038623873598, 5790.4951814689775, 5799.828696383715, 5815.401950935696, 5822.057378416537, 5829.71903516408, 5832.07944075024, 5832.894667818763, 5858.156844436744, 5893.286686871884, 5897.297959366956, 5902.466014728908, 5923.880993599085, 5930.471893982506, 5970.739259761871, 5973.327213789435, 5975.257320446389, 5976.0459083499, 5976.9190012812305, 5983.183252904702, 5988.292736904355, 5993.497377660031, 5996.999763253734, 5997.18023001873, 6011.005802189935, 6025.645812288161, 6037.867473433472, 6046.085413663343, 6073.411317263942, 6084.718682629001, 6089.944295505142, 6094.01712380347, 6107.847094531401, 6109.313835503493, 6143.25473153719, 6144.18381960141, 6183.508271408769, 6209.789815439713, 6223.126196863783, 6240.449932352574, 6258.183771537278, 6276.334357567839, 6282.220827082255, 6312.394475671641, 6318.351707887008, 6324.189165529603, 6333.928444819915, 6340.1762222329935, 6344.105039828838, 6352.1222658636225, 6352.265797730983, 6364.0695117028745, 6382.409521792037, 6417.475573030893, 6423.147801219775, 6444.621448527232, 6445.509042331047, 6459.5133769445965, 6462.447584790236, 6474.6847300771315, 6483.482329453068, 6492.891063883396, 6534.899843533857, 6554.1362851315625, 6559.577691828818, 6561.249903146069, 6563.844499262697, 6576.311453569829, 6579.0099613769535, 6584.0013082997775, 6599.1581281312065, 6604.128281998307, 6606.2314368381285, 6613.243338539243, 6614.51415725863, 6617.7252864314905, 6626.61459938886, 6627.217014999865, 6641.486079509198, 6654.218794459548, 6654.687401320871, 6656.54747364471, 6656.951910105171, 6663.103537885469, 6671.646903127364, 6679.758735730381, 6685.745697156876, 6688.2487386371395, 6692.0905802801635, 6698.71938646804, 6721.411477574564, 6734.028425834796, 6744.991011247175, 6752.538108611335, 6757.288666971141, 6769.4293342022, 6770.507740096747, 6789.911924762214, 6792.8150810939505, 6802.293338295388, 6825.772248365186, 6832.907481614408, 6836.631923907153, 6846.377727627773, 6847.238446966632, 6860.9523525129725, 6864.926278849836, 6872.42183968469, 6873.743206229097, 6896.000110584773, 6897.849993961, 6902.497759392232, 6962.718970752727, 6965.369094063659, 6969.047833356897, 6971.82071986176, 6974.6313010477015, 6993.274225376196, 6997.149447202182, 6997.338286718202, 7008.987018071241, 7011.099429801518, 7012.803809535625, 7015.473904310508, 7017.9683253021085, 7019.646353117557, 7028.04013787136, 7028.417971605461, 7051.306901216313, 7065.680064518436, 7066.62638439694, 7068.522314533832, 7069.589675160247, 7073.201546060879, 7080.091559247782, 7096.99459733316, 7108.192339245404, 7113.833189414062, 7119.569020304527, 7135.69800070204, 7144.510198865002, 7167.393499593147, 7180.458961497, 7188.053681667421, 7193.564292042023, 7198.546880157788, 7205.868251796541, 7210.536485403223, 7211.366748202819, 7212.249299009986, 7220.308953433837, 7229.063244063352, 7245.077692280428, 7256.263914616732, 7261.978767001556, 7270.364793381144, 7271.601497849411, 7275.814651409533, 7284.924123736753, 7290.316260519859, 7292.515843223412, 7301.290261229145, 7307.378712527012, 7310.805187862285, 7324.673420755623, 7325.830413351489, 7344.050366140909, 7354.481767982913, 7361.749617697901, 7385.2333610155665, 7387.4104308191745, 7399.4417270246995, 7409.719627573446, 7419.809584942959, 7421.444144344241, 7428.726065782071, 7429.042797922688, 7458.526053794844, 7458.7154785102375, 7462.5663591910625, 7465.032814400767, 7466.386380374679, 7493.946607746456, 7497.1469980206375, 7512.701908349603, 7533.4855751914765, 7542.756472518114, 7566.086155165781, 7584.004122540154, 7585.1989305600455, 7593.539870523229, 7614.626506343601, 7621.873818401591, 7622.854776550066, 7627.584149391866, 7630.9334102182265, 7635.225895085112, 7649.150579166207, 7650.429685434047, 7657.633458371694, 7657.660726963782, 7673.389329615105, 7683.064660877964, 7693.10476916927, 7712.533511151818, 7724.325784164023, 7758.870352326392, 7762.143968249065, 7762.148931124353, 7777.302942128602, 7778.658888863059, 7785.209342587105, 7799.396976575062, 7802.238095782559, 7819.784233381089, 7829.175534139614, 7833.307930483995, 7864.043231403445, 7879.7808516188015, 7890.820138129022, 7895.127834093363, 7904.335377427442, 7911.350363948773, 7920.5162699486755, 7938.003480869059, 7968.061039206692, 7978.774490317198, 7980.675358968813, 7983.85315102972, 7984.734525866718, 8016.7273364551775, 8016.986900246743, 8049.357028723376, 8054.219262645764, 8070.659569760206, 8085.338020501276, 8123.8838806402355, 8130.612168860603, 8145.0525646573105, 8150.855564468893, 8161.696924588314, 8166.4328093462755, 8192.063752483326, 8208.782609077209, 8210.88998603528, 8222.503450964092, 8223.257629837504, 8228.660461115873, 8244.670010138658, 8245.813100111809, 8246.325136030071, 8249.65874288453, 8252.227899251893, 8257.509905953599, 8258.139008080076, 8294.702017891155, 8301.22823959256, 8311.62139223686, 8311.78994031088, 8312.199772408705, 8315.546913393227, 8347.78643258606, 8351.268648417015, 8358.704545517288, 8374.213030370922, 8385.65601719426, 8388.69506140819, 8394.514433297594, 8419.86928477123, 8425.729364815685, 8429.972500686206, 8447.871759084592, 8460.588801245613, 8461.033596965444, 8482.306806821252, 8483.937532266209, 8494.428948401699, 8497.810856247901, 8521.921986054833, 8529.839075604028, 8535.135579796673, 8539.23165870581, 8546.062638518559, 8548.286017376467, 8549.097736096348, 8560.892848344547, 8563.640741265193, 8588.177687379597, 8614.073576969853, 8627.29789444049, 8628.261499356175, 8631.450365639877, 8651.310562070374, 8669.855287793573, 8676.297348059714, 8685.049239961958, 8686.345990588916, 8689.49922693255, 8700.81778942483, 8710.74198924473, 8741.896088777172, 8743.244802696583, 8756.440822671893, 8765.060403545138, 8766.479348463392, 8795.907182308734, 8806.322187651802, 8820.301034370015, 8825.177647606599, 8828.403587338466, 8837.902509510743, 8839.537704636721, 8844.910499399904, 8879.238797186486, 8879.983595434973, 8888.919194574168, 8892.011202143234, 8917.615076864391, 8945.418674340843, 8947.44110807422, 8961.290705386193, 8965.454402327336, 8966.126709164506, 8968.866501837196, 8971.678234957808, 8972.390873374461, 8979.62439613622, 8988.241364290709, 8993.243505957054, 9004.706834993702, 9006.948387269345, 9014.64152654603, 9044.485803718995, 9052.00237019078, 9060.14640164646, 9071.902896833928, 9086.930906203352, 9096.54566899872, 9099.326353378588, 9102.690638253029, 9104.258878595221, 9108.095295359059, 9112.933560934893, 9117.683881477058, 9125.384267473537, 9154.413556157599, 9175.190719760798, 9192.55502410664, 9215.04979524974, 9216.759763872382, 9217.498751317758, 9226.29541798186, 9227.660756398296, 9237.29608034147, 9268.607147777777, 9269.786597360067, 9285.120830470205, 9289.730919282283, 9289.802418378567, 9291.458965350537, 9316.249612129335, 9346.0688870564, 9366.471317590365, 9392.458603871226, 9411.419353847956, 9414.691559421084, 9419.037990361556, 9431.334524887629, 9441.187651100623, 9441.45782423156, 9444.958959668798, 9453.873195151065, 9459.235925245812, 9467.892172124839, 9469.457463946837, 9469.78497217733, 9494.746696656182, 9498.867747041058, 9519.7147258515, 9521.626213540429, 9525.806968960213, 9528.428326120955, 9531.23179623385, 9543.021518939364, 9551.831830201001, 9567.697580183749, 9568.236581264946, 9571.561242389482, 9573.691066295421, 9575.053685295328, 9577.849470334842, 9579.17939056129, 9606.656550851449, 9608.037738571706, 9609.385853389545, 9611.697647989668, 9631.948950798305, 9632.227454558613, 9636.339810868245, 9654.016432260345, 9656.104134859033, 9659.74538678119, 9686.847542939138, 9708.62876662509, 9715.517916935427, 9721.24469255904, 9734.93295251787, 9743.384369673951, 9750.896671611517, 9760.35265223967, 9763.120971740449, 9763.9411743006, 9765.313296866203, 9765.85074532667, 9773.438208664295, 9781.046434770551, 9785.278032319236, 9807.907660376917, 9809.749860370319, 9816.395202872003, 9820.401629979111, 9822.147433621967, 9829.22519535449, 9832.738029757655, 9842.937389700415, 9844.232736914922, 9844.660308657909, 9849.12583414209, 9860.265170458408, 9874.793294762865, 9904.48852292488, 9921.898217237238, 9926.622326187886, 9970.404423975324, 9971.871385389637, 9975.628601474815]\n",
      "Time of parallel sorting:  1.7354824542999268 s\n",
      "Time of sequential sorting:  0.005213022232055664 s\n"
     ]
    }
   ],
   "source": [
    "@ray.remote\n",
    "def merge(table1, table2):\n",
    "    tab1index = len(table1) - 1\n",
    "    tab2index = len(table2) - 1\n",
    "    tabres = [None for i in range(len(table1) + len(table2))]\n",
    "    tabresindex = len(tabres)-1\n",
    "    while(tabresindex >= 0):\n",
    "        if tab1index >= 0:\n",
    "            if tab2index >= 0:\n",
    "                if table1[tab1index] > table2[tab2index]:\n",
    "                    tabres[tabresindex] = table1[tab1index]\n",
    "                    tabresindex -= 1\n",
    "                    tab1index -= 1\n",
    "                else:\n",
    "                    tabres[tabresindex] = table2[tab2index]\n",
    "                    tabresindex -= 1\n",
    "                    tab2index -= 1\n",
    "            else:\n",
    "                tabres[tabresindex] = table1[tab1index]\n",
    "                tabresindex -= 1\n",
    "                tab1index -= 1\n",
    "        else:\n",
    "            tabres[tabresindex] = table2[tab2index]\n",
    "            tabresindex -= 1\n",
    "            tab2index -= 1\n",
    "    return tabres\n",
    "\n",
    "def merge_non_remote(table1, table2):\n",
    "    tab1index = len(table1) - 1\n",
    "    tab2index = len(table2) - 1\n",
    "    tabres = [None for i in range(len(table1) + len(table2))]\n",
    "    tabresindex = len(tabres)-1\n",
    "    while(tabresindex >= 0):\n",
    "        if tab1index >= 0:\n",
    "            if tab2index >= 0:\n",
    "                if table1[tab1index] > table2[tab2index]:\n",
    "                    tabres[tabresindex] = table1[tab1index]\n",
    "                    tabresindex -= 1\n",
    "                    tab1index -= 1\n",
    "                else:\n",
    "                    tabres[tabresindex] = table2[tab2index]\n",
    "                    tabresindex -= 1\n",
    "                    tab2index -= 1\n",
    "            else:\n",
    "                tabres[tabresindex] = table1[tab1index]\n",
    "                tabresindex -= 1\n",
    "                tab1index -= 1\n",
    "        else:\n",
    "            tabres[tabresindex] = table2[tab2index]\n",
    "            tabresindex -= 1\n",
    "            tab2index -= 1\n",
    "    return tabres\n",
    "\n",
    "def mergesort_par(table):\n",
    "    table = [[table[i]] for i in range(len(table))]\n",
    "    while len(table) > 1:\n",
    "        rest = None\n",
    "        if len(table) % 2 == 1:\n",
    "            rest = table.pop(len(table)-1)\n",
    "        results = []\n",
    "        for i in range(0, len(table), 2):\n",
    "            results.append(merge.remote(table[i], table[i+1]))\n",
    "        table = ray.get(results)\n",
    "        if rest is not None:\n",
    "            table.append(rest)\n",
    "    return table[0]\n",
    "\n",
    "def mergesort_seq(table):\n",
    "    table = [[table[i]] for i in range(len(table))]\n",
    "    while len(table) > 1:\n",
    "        rest = None\n",
    "        if len(table) % 2 == 1:\n",
    "            rest = table.pop(len(table)-1)\n",
    "        results = []\n",
    "        for i in range(0, len(table), 2):\n",
    "            results.append(merge_non_remote(table[i], table[i+1]))\n",
    "        table = results\n",
    "        if rest is not None:\n",
    "            table.append(rest)\n",
    "    return table[0]\n",
    "\n",
    "rng = Random()\n",
    "\n",
    "table = [rng.random()*10000 for i in range(1000)]\n",
    "print(table)\n",
    "start_time_par = time.time()\n",
    "table = mergesort_par(table)\n",
    "stop_time_par = time.time()\n",
    "print(table)\n",
    "\n",
    "table = [rng.random()*10000 for i in range(1000)]\n",
    "print(table)\n",
    "start_time_seq = time.time()\n",
    "table = mergesort_seq(table)\n",
    "stop_time_seq = time.time()\n",
    "print(table)\n",
    "\n",
    "print(\"Time of parallel sorting: \", stop_time_par - start_time_par, \"s\")\n",
    "print(\"Time of sequential sorting: \", stop_time_seq - start_time_seq, \"s\")"
   ],
   "metadata": {
    "collapsed": false
   },
   "id": "7ce9efea664b6b55",
   "execution_count": 52
  },
  {
   "cell_type": "markdown",
   "source": [],
   "metadata": {
    "collapsed": false
   },
   "id": "101c2cbed54a8673"
  },
  {
   "cell_type": "markdown",
   "source": [
    "## Clean up  - Clean up the environemnt\n",
    "\n",
    "**GOAL:** The goal of this exercise is to close the environment once you finish play with ray `ray.shutdown`."
   ],
   "metadata": {
    "collapsed": false
   },
   "id": "61ff181af23dc9e0"
  },
  {
   "cell_type": "code",
   "outputs": [],
   "source": [
    "ray.shutdown()"
   ],
   "metadata": {
    "collapsed": false
   },
   "id": "fc7e639a185eeb37",
   "execution_count": 53
  }
 ],
 "metadata": {
  "kernelspec": {
   "display_name": "Python 3",
   "language": "python",
   "name": "python3"
  },
  "language_info": {
   "codemirror_mode": {
    "name": "ipython",
    "version": 2
   },
   "file_extension": ".py",
   "mimetype": "text/x-python",
   "name": "python",
   "nbconvert_exporter": "python",
   "pygments_lexer": "ipython2",
   "version": "2.7.6"
  }
 },
 "nbformat": 4,
 "nbformat_minor": 5
}
